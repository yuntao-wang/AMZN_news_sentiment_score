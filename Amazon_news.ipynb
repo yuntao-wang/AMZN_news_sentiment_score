{
 "cells": [
  {
   "cell_type": "code",
   "execution_count": 7,
   "metadata": {
    "collapsed": true
   },
   "outputs": [],
   "source": [
    "from lxml.html import parse\n",
    "from urllib.request import urlopen\n",
    "from bs4 import BeautifulSoup"
   ]
  },
  {
   "cell_type": "code",
   "execution_count": 122,
   "metadata": {
    "collapsed": true
   },
   "outputs": [],
   "source": [
    "import numpy as np\n",
    "import pandas as pd"
   ]
  },
  {
   "cell_type": "markdown",
   "metadata": {},
   "source": [
    "## get news from bloomberg"
   ]
  },
  {
   "cell_type": "code",
   "execution_count": 65,
   "metadata": {
    "collapsed": true
   },
   "outputs": [],
   "source": [
    "url = 'https://www.bloomberg.com/search?query=amazon&page=1'\n",
    "\n",
    "request_object = urlopen(url)\n",
    "\n",
    "soup = BeautifulSoup(request_object, 'lxml')"
   ]
  },
  {
   "cell_type": "code",
   "execution_count": 67,
   "metadata": {
    "collapsed": true
   },
   "outputs": [],
   "source": [
    "tag = BeautifulSoup('<h1 class=\"search-result-story__headline\">', 'lxml').h1"
   ]
  },
  {
   "cell_type": "code",
   "execution_count": 68,
   "metadata": {},
   "outputs": [
    {
     "data": {
      "text/plain": [
       "'h1'"
      ]
     },
     "execution_count": 68,
     "metadata": {},
     "output_type": "execute_result"
    }
   ],
   "source": [
    "tag.name"
   ]
  },
  {
   "cell_type": "code",
   "execution_count": 69,
   "metadata": {},
   "outputs": [
    {
     "data": {
      "text/plain": [
       "['search-result-story__headline']"
      ]
     },
     "execution_count": 69,
     "metadata": {},
     "output_type": "execute_result"
    }
   ],
   "source": [
    "tag['class']"
   ]
  },
  {
   "cell_type": "code",
   "execution_count": 70,
   "metadata": {},
   "outputs": [
    {
     "data": {
      "text/plain": [
       "list"
      ]
     },
     "execution_count": 70,
     "metadata": {},
     "output_type": "execute_result"
    }
   ],
   "source": [
    "type(tag['class'])"
   ]
  },
  {
   "cell_type": "code",
   "execution_count": 71,
   "metadata": {},
   "outputs": [
    {
     "data": {
      "text/plain": [
       "{'class': ['search-result-story__headline']}"
      ]
     },
     "execution_count": 71,
     "metadata": {},
     "output_type": "execute_result"
    }
   ],
   "source": [
    "tag.attrs"
   ]
  },
  {
   "cell_type": "code",
   "execution_count": 72,
   "metadata": {
    "collapsed": true
   },
   "outputs": [],
   "source": [
    "headlines = soup.find_all('h1', class_=\"search-result-story__headline\".split())"
   ]
  },
  {
   "cell_type": "code",
   "execution_count": 73,
   "metadata": {},
   "outputs": [
    {
     "name": "stdout",
     "output_type": "stream",
     "text": [
      " Amazon's Small Paychecks: Charts \n",
      " How Amazon Can Keep Growing Prime Membership \n",
      " Piper Jaffray's Olson Sees Amazon Web Services Growing \n",
      " Amazon’s Jeff Wilke Talks About AI Ambitions, Robots, and Trump \n",
      " Amazon Hits 100 Million Prime Members \n",
      " Amazon Hits 100 Million Prime Members \n",
      " Amazon Nears Record Amid Wall Street Praise for Prime Milestone \n",
      " Billionaire Bezos Made 59 Times More than Amazon's Median Worker \n",
      " Still Unclear Why Amazon Disclosed Subscriber Numbers: Ovide \n",
      " Bloomberg Markets: Amazon Hits 100 Million Prime Customers \n"
     ]
    }
   ],
   "source": [
    "for item in headlines:\n",
    "    print(item.get_text())\n"
   ]
  },
  {
   "cell_type": "code",
   "execution_count": 74,
   "metadata": {
    "collapsed": true
   },
   "outputs": [],
   "source": [
    "publish_dates = soup.find_all('time', class_=\"published-at\")"
   ]
  },
  {
   "cell_type": "code",
   "execution_count": 75,
   "metadata": {},
   "outputs": [
    {
     "data": {
      "text/plain": [
       "[' Apr 20, 2018 ',\n",
       " ' Apr 19, 2018 ',\n",
       " ' Apr 19, 2018 ',\n",
       " ' Apr 19, 2018 ',\n",
       " ' Apr 19, 2018 ',\n",
       " ' Apr 19, 2018 ',\n",
       " ' Apr 19, 2018 ',\n",
       " ' Apr 19, 2018 ',\n",
       " ' Apr 19, 2018 ',\n",
       " ' Apr 19, 2018 ']"
      ]
     },
     "execution_count": 75,
     "metadata": {},
     "output_type": "execute_result"
    }
   ],
   "source": [
    "testlist = []\n",
    "for item in publish_dates:\n",
    "    testlist.append(item.get_text())\n",
    "testlist"
   ]
  },
  {
   "cell_type": "code",
   "execution_count": 76,
   "metadata": {},
   "outputs": [
    {
     "data": {
      "text/plain": [
       "' Apr 20, 2018 '"
      ]
     },
     "execution_count": 76,
     "metadata": {},
     "output_type": "execute_result"
    }
   ],
   "source": [
    "testlist[0]"
   ]
  },
  {
   "cell_type": "code",
   "execution_count": 77,
   "metadata": {},
   "outputs": [
    {
     "data": {
      "text/plain": [
       "14"
      ]
     },
     "execution_count": 77,
     "metadata": {},
     "output_type": "execute_result"
    }
   ],
   "source": [
    "len(testlist[0])"
   ]
  },
  {
   "cell_type": "code",
   "execution_count": 78,
   "metadata": {},
   "outputs": [
    {
     "data": {
      "text/plain": [
       "10"
      ]
     },
     "execution_count": 78,
     "metadata": {},
     "output_type": "execute_result"
    }
   ],
   "source": [
    "len(publish_dates)"
   ]
  },
  {
   "cell_type": "code",
   "execution_count": 79,
   "metadata": {},
   "outputs": [
    {
     "data": {
      "text/plain": [
       "<time class=\"published-at\" datetime=\"2018-04-20T10:30:19+00:00\"> Apr 20, 2018 </time>"
      ]
     },
     "execution_count": 79,
     "metadata": {},
     "output_type": "execute_result"
    }
   ],
   "source": [
    "publish_dates[0]"
   ]
  },
  {
   "cell_type": "code",
   "execution_count": 80,
   "metadata": {
    "collapsed": true
   },
   "outputs": [],
   "source": [
    "stories = soup.find_all('div', class_=\"search-result-story__body\")"
   ]
  },
  {
   "cell_type": "code",
   "execution_count": 81,
   "metadata": {},
   "outputs": [
    {
     "name": "stdout",
     "output_type": "stream",
     "text": [
      " Good morning! This is Fly Charts, the daily charts-only newsletter from Gadfly; sign up here. From #MeToo in Japan to Qualcomm's poor planning, here are four charts that tell you what you need... \n",
      "                            Bloomberg Intelligence's Jitendra Waral discusses a milestone for Amazon and possible challenges for the company. He speaks with Vonnie Quinn on \"Bloomberg Markets.\"... \n",
      "                           Michael Olson, senior research analyst at Piper Jaffray, discusses Amazon on \"Bloomberg Markets: The Open.\"... \n",
      " public role in shaping Amazon’s agenda, which includes advancing its technological ambitions as well as playing defense against presidential tweets. When he started at Amazon, the company was struggling... \n",
      "                                                             Even Trump tweeted 6 times about Amazon this year, he's got no mention in Jeff Bezos' annual letter to shareholders https://bloom.bg/2HPGq5j... \n",
      "                                                             Even Trump tweeted 6 times about Amazon this year, he's got no mention in Jeff Bezos' annual letter to shareholders https://bloom.bg/2HPGq5j... \n",
      " Amazon.com Inc. shares gained as much 2.7 percent intraday, putting the online retailer within approximately 3 percent of its March 12 record-high after founder/CEO Jeff Bezos drafted a letter... \n",
      " Billionaire Bezos Made 59 Times More than Amazon's Median Worker... \n",
      " with Pimm Fox and Lisa Abramowicz. Guest: Shira Ovide, Bloomberg Gadfly technology columnist, on Amazon CEO Jeff Bezos’ annual shareholder letter, Facebook building a team to design its own chips,... \n",
      " Jitendra Waral Senior Analyst: Internet & Consumer Electronics Bloomberg Intelligence Discussing Amazon.com CEO Jeff Bezos telling shareholders the e-commerce giant has exceeded 100 million paid Prime... \n"
     ]
    }
   ],
   "source": [
    "for item in stories:\n",
    "    print(item.get_text())"
   ]
  },
  {
   "cell_type": "code",
   "execution_count": 205,
   "metadata": {
    "collapsed": true
   },
   "outputs": [],
   "source": [
    "# define a function to get publish date, story headline, story body\n",
    "# put them together\n",
    "\n",
    "def get_news(url):\n",
    "    \"\"\"\n",
    "    Takes in a url and returns a dictionary containing publish date, story headline, story body from Bloomberg website.\n",
    "    \"\"\"\n",
    "    \n",
    "    request_object = urlopen(url)\n",
    "    soup = BeautifulSoup(request_object, 'lxml')\n",
    "    \n",
    "    news_dict_list = []\n",
    "    \n",
    "    # publish dates, headlines, story bodies\n",
    "    publish_dates = soup.find_all('time', class_=\"published-at\")\n",
    "    headlines = soup.find_all('h1', class_=\"search-result-story__headline\".split())\n",
    "    stories = soup.find_all('div', class_=\"search-result-story__body\")\n",
    "    \n",
    "    length = min(len(publish_dates), len(headlines), len(stories))\n",
    "    \n",
    "    for i in range(length):\n",
    "        news_dict = {}\n",
    "        news_dict['date'] = publish_dates[i].get_text()\n",
    "        news_dict['headline'] = headlines[i].get_text()\n",
    "        news_dict['story'] = stories[i].get_text()\n",
    "        news_dict_list.append(news_dict)\n",
    "    return news_dict_list"
   ]
  },
  {
   "cell_type": "code",
   "execution_count": 206,
   "metadata": {
    "collapsed": true
   },
   "outputs": [],
   "source": [
    "url = 'https://www.bloomberg.com/search?query=amazon&page=1'\n",
    "newslist = get_news(url)"
   ]
  },
  {
   "cell_type": "code",
   "execution_count": 207,
   "metadata": {},
   "outputs": [
    {
     "data": {
      "text/plain": [
       "[{'date': ' Apr 23, 2018 ',\n",
       "  'headline': \" Inside Amazon's Possible Plan to Build a Domestic Robot \",\n",
       "  'story': '                                                          Bloomberg\\'s Mark Gurman reports on Amazon\\'s secret plan to build domestic a robot. He speaks on \"Bloomberg Daybreak: Asia.\"... '},\n",
       " {'date': ' Apr 23, 2018 ',\n",
       "  'headline': \" Amazon's Top-Secret Robot Project Unveiled \",\n",
       "  'story': \"                                Bloomberg's Gerritt DeVynck discusses the difference between Amazon's warehouse robots that move merchandise around its fulfillment centers and the domestic robots... \"},\n",
       " {'date': ' Apr 23, 2018 ',\n",
       "  'headline': ' Amazon Pharmacy Competition Is Overblown, Larry Robbins Says at Sohn ',\n",
       "  'story': ' Holding Co., saying that competition from Amazon is unlikely to materialize. He sees a 96 percent upside in CVS after its merger with Aetna Inc.Amazon doesn’t do firearms, doesn’t do tobacco, doesn’t... '},\n",
       " {'date': ' Apr 23, 2018 ',\n",
       "  'headline': ' Amazon Bets Big On Home Robots ',\n",
       "  'story': '                                                                                 Description: Amazon has a top-secret plan to build home robots. @markgurman explains https://bloom.bg/2KadaGO #tictocnews... '},\n",
       " {'date': ' Apr 23, 2018 ',\n",
       "  'headline': ' Amazon Has a Top-Secret Plan to Build Home Robots ',\n",
       "  'story': ' and Amazon hardware projects are sometimes killed during gestation.Bloomberg’s Gerritt DeVynck reports on how Amazon may be trying to build a robot for the home.(Source: Bloomberg)An Amazon spokesperson... '},\n",
       " {'date': ' Apr 23, 2018 ',\n",
       "  'headline': \" Kirkpatrick Says Trump's Attacks on Amazon Have No Bearing \",\n",
       "  'story': ' Kirkpatrick, founder and chief executive officer at Techonomy, and Bloomberg\\'s Ben Brody discuss Amazon\\'s lobbying influence and impact in Washington. They speak on \"Bloomberg Daybreak: Americas.\"... '},\n",
       " {'date': ' Apr 23, 2018 ',\n",
       "  'headline': ' Amazon Baffles Investors With Meaningless Numbers ',\n",
       "  'story': \" in a webcast of Amazon's cloud-computing conference, impossible-to-confirm figures on Amazon's job creation prowess and multiple context-free percentage growth figures. Amazon is far from alone... \"},\n",
       " {'date': ' Apr 23, 2018 ',\n",
       "  'headline': ' Apple to Report Earnings, Amazon Looks to Home Robots: Ovide ',\n",
       "  'story': ' Pimm Fox and Lisa Abramowicz. GUEST: Shira Ovide, Bloomberg Gadfly technology columnist, on Amazon’s home robots, a preview of Google-Alphabet earnings, and Apple weakness. Running time 06:18... '},\n",
       " {'date': ' Apr 23, 2018 ',\n",
       "  'headline': ' Amazon Leads Stampede of Smaller-Budget Studios at Theater Show ',\n",
       "  'story': ' Owners will host a record 11 studio presentations -- including ones from newer filmmakers like Amazon.com Inc. and STX Entertainment -- to a new high of more than 3,700 registrants.With domestic... '},\n",
       " {'date': ' Apr 23, 2018 ',\n",
       "  'headline': \" Today's Top Tech Headlines \",\n",
       "  'story': \" breaks down today's hottest tech headlines #tictocnews - Alphabet sales growth tops forecast - Amazon working on a live-in robot - Walmart close to $12B deal for Flipkart... \"}]"
      ]
     },
     "execution_count": 207,
     "metadata": {},
     "output_type": "execute_result"
    }
   ],
   "source": [
    "newslist"
   ]
  },
  {
   "cell_type": "code",
   "execution_count": 201,
   "metadata": {},
   "outputs": [
    {
     "ename": "TypeError",
     "evalue": "can only concatenate list (not \"NoneType\") to list",
     "output_type": "error",
     "traceback": [
      "\u001b[1;31m---------------------------------------------------------------------------\u001b[0m",
      "\u001b[1;31mTypeError\u001b[0m                                 Traceback (most recent call last)",
      "\u001b[1;32m<ipython-input-201-3eaeda18293f>\u001b[0m in \u001b[0;36m<module>\u001b[1;34m()\u001b[0m\n\u001b[0;32m      3\u001b[0m \u001b[1;32mfor\u001b[0m \u001b[0mi\u001b[0m \u001b[1;32min\u001b[0m \u001b[0mrange\u001b[0m\u001b[1;33m(\u001b[0m\u001b[1;36m200\u001b[0m\u001b[1;33m)\u001b[0m\u001b[1;33m:\u001b[0m\u001b[1;33m\u001b[0m\u001b[0m\n\u001b[0;32m      4\u001b[0m     \u001b[0murl\u001b[0m \u001b[1;33m=\u001b[0m \u001b[1;34m'https://www.bloomberg.com/search?query=amazon&page='\u001b[0m\u001b[1;33m+\u001b[0m\u001b[0mstr\u001b[0m\u001b[1;33m(\u001b[0m\u001b[0mi\u001b[0m\u001b[1;33m)\u001b[0m\u001b[1;33m\u001b[0m\u001b[0m\n\u001b[1;32m----> 5\u001b[1;33m     \u001b[0mnewslist\u001b[0m \u001b[1;33m=\u001b[0m \u001b[0mnewslist\u001b[0m \u001b[1;33m+\u001b[0m \u001b[0mget_news\u001b[0m\u001b[1;33m(\u001b[0m\u001b[0murl\u001b[0m\u001b[1;33m)\u001b[0m\u001b[1;33m\u001b[0m\u001b[0m\n\u001b[0m",
      "\u001b[1;31mTypeError\u001b[0m: can only concatenate list (not \"NoneType\") to list"
     ]
    }
   ],
   "source": [
    "# get all news up to page 500\n",
    "newslist = []\n",
    "for i in range(200):\n",
    "    url = 'https://www.bloomberg.com/search?query=amazon&page='+str(i)\n",
    "    newslist = newslist + get_news(url)"
   ]
  },
  {
   "cell_type": "code",
   "execution_count": 202,
   "metadata": {},
   "outputs": [
    {
     "data": {
      "text/plain": [
       "0"
      ]
     },
     "execution_count": 202,
     "metadata": {},
     "output_type": "execute_result"
    }
   ],
   "source": [
    "len(newslist)"
   ]
  },
  {
   "cell_type": "code",
   "execution_count": 55,
   "metadata": {},
   "outputs": [
    {
     "data": {
      "text/plain": [
       "{'date': ' Feb 1, 2018 ',\n",
       " 'headline': ' Now Even the Empire State Building Has Space to Fill—a Lot of It ',\n",
       " 'story': ' last week by brokerage Cushman & Wakefield. Still, the site -- across 34th Street from one of Amazon.com Inc.’s first physical bookstores -- will be one of the most in-demand in Manhattan, said... '}"
      ]
     },
     "execution_count": 55,
     "metadata": {},
     "output_type": "execute_result"
    }
   ],
   "source": [
    "newslist[-1]"
   ]
  },
  {
   "cell_type": "code",
   "execution_count": 57,
   "metadata": {
    "collapsed": true
   },
   "outputs": [],
   "source": [
    "df = pd.DataFrame(newslist)"
   ]
  },
  {
   "cell_type": "code",
   "execution_count": 58,
   "metadata": {},
   "outputs": [
    {
     "data": {
      "text/html": [
       "<div>\n",
       "<style>\n",
       "    .dataframe thead tr:only-child th {\n",
       "        text-align: right;\n",
       "    }\n",
       "\n",
       "    .dataframe thead th {\n",
       "        text-align: left;\n",
       "    }\n",
       "\n",
       "    .dataframe tbody tr th {\n",
       "        vertical-align: top;\n",
       "    }\n",
       "</style>\n",
       "<table border=\"1\" class=\"dataframe\">\n",
       "  <thead>\n",
       "    <tr style=\"text-align: right;\">\n",
       "      <th></th>\n",
       "      <th>date</th>\n",
       "      <th>headline</th>\n",
       "      <th>story</th>\n",
       "    </tr>\n",
       "  </thead>\n",
       "  <tbody>\n",
       "    <tr>\n",
       "      <th>0</th>\n",
       "      <td>Apr 18, 2018</td>\n",
       "      <td>Amazon's Bezos Reveals Company Has Topped 100...</td>\n",
       "      <td>Mark Mahaney, analyst at RBC Capital...</td>\n",
       "    </tr>\n",
       "    <tr>\n",
       "      <th>1</th>\n",
       "      <td>Apr 18, 2018</td>\n",
       "      <td>RBC's Mahaney Sees 200 Million Amazon Prime M...</td>\n",
       "      <td>Mark Maha...</td>\n",
       "    </tr>\n",
       "    <tr>\n",
       "      <th>2</th>\n",
       "      <td>Apr 18, 2018</td>\n",
       "      <td>Postal Board Nominees Willing to Challenge Tr...</td>\n",
       "      <td>confidential agreements that are negotiated w...</td>\n",
       "    </tr>\n",
       "    <tr>\n",
       "      <th>3</th>\n",
       "      <td>Apr 18, 2018</td>\n",
       "      <td>NBA Video-Game League to Stream Exclusively o...</td>\n",
       "      <td>video-game league signed a multiyear broadcas...</td>\n",
       "    </tr>\n",
       "    <tr>\n",
       "      <th>4</th>\n",
       "      <td>Apr 18, 2018</td>\n",
       "      <td>Jeff Bezos Says Amazon Has Exceeded 100 Milli...</td>\n",
       "      <td>Amazon.com Chief Executive Officer Jeff Bezos...</td>\n",
       "    </tr>\n",
       "  </tbody>\n",
       "</table>\n",
       "</div>"
      ],
      "text/plain": [
       "             date                                           headline  \\\n",
       "0   Apr 18, 2018    Amazon's Bezos Reveals Company Has Topped 100...   \n",
       "1   Apr 18, 2018    RBC's Mahaney Sees 200 Million Amazon Prime M...   \n",
       "2   Apr 18, 2018    Postal Board Nominees Willing to Challenge Tr...   \n",
       "3   Apr 18, 2018    NBA Video-Game League to Stream Exclusively o...   \n",
       "4   Apr 18, 2018    Jeff Bezos Says Amazon Has Exceeded 100 Milli...   \n",
       "\n",
       "                                               story  \n",
       "0            Mark Mahaney, analyst at RBC Capital...  \n",
       "1                                       Mark Maha...  \n",
       "2   confidential agreements that are negotiated w...  \n",
       "3   video-game league signed a multiyear broadcas...  \n",
       "4   Amazon.com Chief Executive Officer Jeff Bezos...  "
      ]
     },
     "execution_count": 58,
     "metadata": {},
     "output_type": "execute_result"
    }
   ],
   "source": [
    "df.head()"
   ]
  },
  {
   "cell_type": "code",
   "execution_count": 59,
   "metadata": {},
   "outputs": [
    {
     "data": {
      "text/html": [
       "<div>\n",
       "<style>\n",
       "    .dataframe thead tr:only-child th {\n",
       "        text-align: right;\n",
       "    }\n",
       "\n",
       "    .dataframe thead th {\n",
       "        text-align: left;\n",
       "    }\n",
       "\n",
       "    .dataframe tbody tr th {\n",
       "        vertical-align: top;\n",
       "    }\n",
       "</style>\n",
       "<table border=\"1\" class=\"dataframe\">\n",
       "  <thead>\n",
       "    <tr style=\"text-align: right;\">\n",
       "      <th></th>\n",
       "      <th>date</th>\n",
       "      <th>headline</th>\n",
       "      <th>story</th>\n",
       "    </tr>\n",
       "  </thead>\n",
       "  <tbody>\n",
       "    <tr>\n",
       "      <th>995</th>\n",
       "      <td>Jan 30, 2018</td>\n",
       "      <td>Surveillance: NAFTA Decision will be Market M...</td>\n",
       "      <td>the tax cuts. Max Nisen, Bloomberg Gadfly Col...</td>\n",
       "    </tr>\n",
       "    <tr>\n",
       "      <th>996</th>\n",
       "      <td>Feb 1, 2018</td>\n",
       "      <td>Conglomerates Are Broken</td>\n",
       "      <td>mentioned as candidates for breakups. The Dig...</td>\n",
       "    </tr>\n",
       "    <tr>\n",
       "      <th>997</th>\n",
       "      <td>Feb 1, 2018</td>\n",
       "      <td>iPhone X Puts Apple in Crosshairs of Nervous ...</td>\n",
       "      <td>stands above all others as the two-day blitz ...</td>\n",
       "    </tr>\n",
       "    <tr>\n",
       "      <th>998</th>\n",
       "      <td>Jan 31, 2018</td>\n",
       "      <td>Bloomberg Baystate Business: Markets, Health ...</td>\n",
       "      <td>Bloomberg News reporter Zachary Tracer talked...</td>\n",
       "    </tr>\n",
       "    <tr>\n",
       "      <th>999</th>\n",
       "      <td>Feb 1, 2018</td>\n",
       "      <td>Now Even the Empire State Building Has Space ...</td>\n",
       "      <td>last week by brokerage Cushman &amp; Wakefield. S...</td>\n",
       "    </tr>\n",
       "  </tbody>\n",
       "</table>\n",
       "</div>"
      ],
      "text/plain": [
       "               date                                           headline  \\\n",
       "995   Jan 30, 2018    Surveillance: NAFTA Decision will be Market M...   \n",
       "996    Feb 1, 2018                           Conglomerates Are Broken    \n",
       "997    Feb 1, 2018    iPhone X Puts Apple in Crosshairs of Nervous ...   \n",
       "998   Jan 31, 2018    Bloomberg Baystate Business: Markets, Health ...   \n",
       "999    Feb 1, 2018    Now Even the Empire State Building Has Space ...   \n",
       "\n",
       "                                                 story  \n",
       "995   the tax cuts. Max Nisen, Bloomberg Gadfly Col...  \n",
       "996   mentioned as candidates for breakups. The Dig...  \n",
       "997   stands above all others as the two-day blitz ...  \n",
       "998   Bloomberg News reporter Zachary Tracer talked...  \n",
       "999   last week by brokerage Cushman & Wakefield. S...  "
      ]
     },
     "execution_count": 59,
     "metadata": {},
     "output_type": "execute_result"
    }
   ],
   "source": [
    "df.tail()"
   ]
  },
  {
   "cell_type": "code",
   "execution_count": 63,
   "metadata": {
    "collapsed": true
   },
   "outputs": [],
   "source": [
    "# write dataframe to csv file\n",
    "\n",
    "df.to_csv('amazon_news_100page.csv')"
   ]
  },
  {
   "cell_type": "markdown",
   "metadata": {},
   "source": [
    "## get sentiment score"
   ]
  },
  {
   "cell_type": "code",
   "execution_count": 91,
   "metadata": {},
   "outputs": [
    {
     "data": {
      "text/html": [
       "<div>\n",
       "<style>\n",
       "    .dataframe thead tr:only-child th {\n",
       "        text-align: right;\n",
       "    }\n",
       "\n",
       "    .dataframe thead th {\n",
       "        text-align: left;\n",
       "    }\n",
       "\n",
       "    .dataframe tbody tr th {\n",
       "        vertical-align: top;\n",
       "    }\n",
       "</style>\n",
       "<table border=\"1\" class=\"dataframe\">\n",
       "  <thead>\n",
       "    <tr style=\"text-align: right;\">\n",
       "      <th></th>\n",
       "      <th>date</th>\n",
       "      <th>headline</th>\n",
       "      <th>story</th>\n",
       "    </tr>\n",
       "  </thead>\n",
       "  <tbody>\n",
       "    <tr>\n",
       "      <th>0</th>\n",
       "      <td>Apr 18, 2018</td>\n",
       "      <td>Amazon's Bezos Reveals Company Has Topped 100...</td>\n",
       "      <td>Mark Mahaney, analyst at RBC Capital...</td>\n",
       "    </tr>\n",
       "    <tr>\n",
       "      <th>1</th>\n",
       "      <td>Apr 18, 2018</td>\n",
       "      <td>RBC's Mahaney Sees 200 Million Amazon Prime M...</td>\n",
       "      <td>Mark Maha...</td>\n",
       "    </tr>\n",
       "    <tr>\n",
       "      <th>2</th>\n",
       "      <td>Apr 18, 2018</td>\n",
       "      <td>Postal Board Nominees Willing to Challenge Tr...</td>\n",
       "      <td>confidential agreements that are negotiated w...</td>\n",
       "    </tr>\n",
       "    <tr>\n",
       "      <th>3</th>\n",
       "      <td>Apr 18, 2018</td>\n",
       "      <td>NBA Video-Game League to Stream Exclusively o...</td>\n",
       "      <td>video-game league signed a multiyear broadcas...</td>\n",
       "    </tr>\n",
       "    <tr>\n",
       "      <th>4</th>\n",
       "      <td>Apr 18, 2018</td>\n",
       "      <td>Jeff Bezos Says Amazon Has Exceeded 100 Milli...</td>\n",
       "      <td>Amazon.com Chief Executive Officer Jeff Bezos...</td>\n",
       "    </tr>\n",
       "  </tbody>\n",
       "</table>\n",
       "</div>"
      ],
      "text/plain": [
       "             date                                           headline  \\\n",
       "0   Apr 18, 2018    Amazon's Bezos Reveals Company Has Topped 100...   \n",
       "1   Apr 18, 2018    RBC's Mahaney Sees 200 Million Amazon Prime M...   \n",
       "2   Apr 18, 2018    Postal Board Nominees Willing to Challenge Tr...   \n",
       "3   Apr 18, 2018    NBA Video-Game League to Stream Exclusively o...   \n",
       "4   Apr 18, 2018    Jeff Bezos Says Amazon Has Exceeded 100 Milli...   \n",
       "\n",
       "                                               story  \n",
       "0            Mark Mahaney, analyst at RBC Capital...  \n",
       "1                                       Mark Maha...  \n",
       "2   confidential agreements that are negotiated w...  \n",
       "3   video-game league signed a multiyear broadcas...  \n",
       "4   Amazon.com Chief Executive Officer Jeff Bezos...  "
      ]
     },
     "execution_count": 91,
     "metadata": {},
     "output_type": "execute_result"
    }
   ],
   "source": [
    "df.head()"
   ]
  },
  {
   "cell_type": "code",
   "execution_count": 92,
   "metadata": {},
   "outputs": [
    {
     "data": {
      "text/plain": [
       "\" Amazon's Bezos Reveals Company Has Topped 100 Million Prime Members \""
      ]
     },
     "execution_count": 92,
     "metadata": {},
     "output_type": "execute_result"
    }
   ],
   "source": [
    "df['headline'][0]"
   ]
  },
  {
   "cell_type": "code",
   "execution_count": 93,
   "metadata": {},
   "outputs": [
    {
     "data": {
      "text/plain": [
       "\"          Mark Mahaney, analyst at RBC Capital Markets, and Bloomberg's Spencer Soper discuss Amazon CEO Jeff Bezos' annual shareholder letter and paid subscriptions for Prime. They speak with Emily... \""
      ]
     },
     "execution_count": 93,
     "metadata": {},
     "output_type": "execute_result"
    }
   ],
   "source": [
    "df['story'][0]"
   ]
  },
  {
   "cell_type": "code",
   "execution_count": 94,
   "metadata": {
    "collapsed": true
   },
   "outputs": [],
   "source": [
    "import nltk\n",
    "from nltk.corpus import sentiwordnet as swn"
   ]
  },
  {
   "cell_type": "code",
   "execution_count": 95,
   "metadata": {
    "collapsed": true
   },
   "outputs": [],
   "source": [
    "# function to get sentiment score\n",
    "\n",
    "def sentiment_score(doc):\n",
    "    \"\"\"This function takes in a string and returns a sentiment score for that string.\"\"\"\n",
    "    global doc_sentiment\n",
    "    sentences = nltk.sent_tokenize(doc)\n",
    "    stokens = [nltk.word_tokenize(sent) for sent in sentences]\n",
    "    taggedlist=[]\n",
    "    for stoken in stokens:        \n",
    "         taggedlist.append(nltk.pos_tag(stoken))\n",
    "    wnl = nltk.WordNetLemmatizer()\n",
    "\n",
    "    score_list=[]\n",
    "    for idx,taggedsent in enumerate(taggedlist):\n",
    "        score_list.append([])\n",
    "        for idx2,t in enumerate(taggedsent):\n",
    "            newtag=''\n",
    "            lemmatized=wnl.lemmatize(t[0])\n",
    "            if t[1].startswith('NN'):\n",
    "                newtag='n'\n",
    "            elif t[1].startswith('JJ'):\n",
    "                newtag='a'\n",
    "            elif t[1].startswith('V'):\n",
    "                newtag='v'\n",
    "            elif t[1].startswith('R'):\n",
    "                newtag='r'\n",
    "            else:\n",
    "                newtag=''       \n",
    "            if(newtag!=''):    \n",
    "                synsets = list(swn.senti_synsets(lemmatized, newtag))\n",
    "                #Getting average of all possible sentiments, as you requested        \n",
    "                score=0\n",
    "                if(len(synsets)>0):\n",
    "                    for syn in synsets:\n",
    "                        score+=syn.pos_score()-syn.neg_score()\n",
    "                    score_list[idx].append(score/len(synsets))\n",
    "    sentence_sentiment=[]\n",
    "    for score_sent in score_list:\n",
    "        if len(score_sent)!=0:\n",
    "            sentence_sentiment.append(sum([word_score for word_score in score_sent])/len(score_sent))\n",
    "    if sentence_sentiment !=[]:\n",
    "        doc_sentiment = sum(sentence_sentiment)/len(sentence_sentiment)\n",
    "    return doc_sentiment"
   ]
  },
  {
   "cell_type": "code",
   "execution_count": 96,
   "metadata": {},
   "outputs": [
    {
     "data": {
      "text/plain": [
       "0.017857142857142856"
      ]
     },
     "execution_count": 96,
     "metadata": {},
     "output_type": "execute_result"
    }
   ],
   "source": [
    "sentiment_score(df['headline'][0])"
   ]
  },
  {
   "cell_type": "code",
   "execution_count": 97,
   "metadata": {},
   "outputs": [
    {
     "data": {
      "text/plain": [
       "0.00720959595959596"
      ]
     },
     "execution_count": 97,
     "metadata": {},
     "output_type": "execute_result"
    }
   ],
   "source": [
    "sentiment_score(df['story'][0])"
   ]
  },
  {
   "cell_type": "code",
   "execution_count": 98,
   "metadata": {},
   "outputs": [
    {
     "data": {
      "text/plain": [
       "' Apr 18, 2018 '"
      ]
     },
     "execution_count": 98,
     "metadata": {},
     "output_type": "execute_result"
    }
   ],
   "source": [
    "# dealing with date of news\n",
    "\n",
    "df['date'][0]"
   ]
  },
  {
   "cell_type": "code",
   "execution_count": 99,
   "metadata": {
    "collapsed": true
   },
   "outputs": [],
   "source": [
    "from dateutil.parser import parse"
   ]
  },
  {
   "cell_type": "code",
   "execution_count": 100,
   "metadata": {},
   "outputs": [
    {
     "data": {
      "text/plain": [
       "datetime.datetime(2018, 4, 18, 0, 0)"
      ]
     },
     "execution_count": 100,
     "metadata": {},
     "output_type": "execute_result"
    }
   ],
   "source": [
    "parse(df['date'][0])"
   ]
  },
  {
   "cell_type": "code",
   "execution_count": 103,
   "metadata": {
    "collapsed": true
   },
   "outputs": [],
   "source": [
    "for i in range(len(df['date'])):\n",
    "    df['date'][i] = parse(df['date'][i])"
   ]
  },
  {
   "cell_type": "code",
   "execution_count": 104,
   "metadata": {},
   "outputs": [
    {
     "data": {
      "text/html": [
       "<div>\n",
       "<style>\n",
       "    .dataframe thead tr:only-child th {\n",
       "        text-align: right;\n",
       "    }\n",
       "\n",
       "    .dataframe thead th {\n",
       "        text-align: left;\n",
       "    }\n",
       "\n",
       "    .dataframe tbody tr th {\n",
       "        vertical-align: top;\n",
       "    }\n",
       "</style>\n",
       "<table border=\"1\" class=\"dataframe\">\n",
       "  <thead>\n",
       "    <tr style=\"text-align: right;\">\n",
       "      <th></th>\n",
       "      <th>date</th>\n",
       "      <th>headline</th>\n",
       "      <th>story</th>\n",
       "    </tr>\n",
       "  </thead>\n",
       "  <tbody>\n",
       "    <tr>\n",
       "      <th>0</th>\n",
       "      <td>2018-04-18 00:00:00</td>\n",
       "      <td>Amazon's Bezos Reveals Company Has Topped 100...</td>\n",
       "      <td>Mark Mahaney, analyst at RBC Capital...</td>\n",
       "    </tr>\n",
       "    <tr>\n",
       "      <th>1</th>\n",
       "      <td>2018-04-18 00:00:00</td>\n",
       "      <td>RBC's Mahaney Sees 200 Million Amazon Prime M...</td>\n",
       "      <td>Mark Maha...</td>\n",
       "    </tr>\n",
       "    <tr>\n",
       "      <th>2</th>\n",
       "      <td>2018-04-18 00:00:00</td>\n",
       "      <td>Postal Board Nominees Willing to Challenge Tr...</td>\n",
       "      <td>confidential agreements that are negotiated w...</td>\n",
       "    </tr>\n",
       "    <tr>\n",
       "      <th>3</th>\n",
       "      <td>2018-04-18 00:00:00</td>\n",
       "      <td>NBA Video-Game League to Stream Exclusively o...</td>\n",
       "      <td>video-game league signed a multiyear broadcas...</td>\n",
       "    </tr>\n",
       "    <tr>\n",
       "      <th>4</th>\n",
       "      <td>2018-04-18 00:00:00</td>\n",
       "      <td>Jeff Bezos Says Amazon Has Exceeded 100 Milli...</td>\n",
       "      <td>Amazon.com Chief Executive Officer Jeff Bezos...</td>\n",
       "    </tr>\n",
       "  </tbody>\n",
       "</table>\n",
       "</div>"
      ],
      "text/plain": [
       "                  date                                           headline  \\\n",
       "0  2018-04-18 00:00:00   Amazon's Bezos Reveals Company Has Topped 100...   \n",
       "1  2018-04-18 00:00:00   RBC's Mahaney Sees 200 Million Amazon Prime M...   \n",
       "2  2018-04-18 00:00:00   Postal Board Nominees Willing to Challenge Tr...   \n",
       "3  2018-04-18 00:00:00   NBA Video-Game League to Stream Exclusively o...   \n",
       "4  2018-04-18 00:00:00   Jeff Bezos Says Amazon Has Exceeded 100 Milli...   \n",
       "\n",
       "                                               story  \n",
       "0            Mark Mahaney, analyst at RBC Capital...  \n",
       "1                                       Mark Maha...  \n",
       "2   confidential agreements that are negotiated w...  \n",
       "3   video-game league signed a multiyear broadcas...  \n",
       "4   Amazon.com Chief Executive Officer Jeff Bezos...  "
      ]
     },
     "execution_count": 104,
     "metadata": {},
     "output_type": "execute_result"
    }
   ],
   "source": [
    "df.head()"
   ]
  },
  {
   "cell_type": "code",
   "execution_count": 105,
   "metadata": {},
   "outputs": [
    {
     "data": {
      "text/plain": [
       "2018"
      ]
     },
     "execution_count": 105,
     "metadata": {},
     "output_type": "execute_result"
    }
   ],
   "source": [
    "df['date'][0].year"
   ]
  },
  {
   "cell_type": "code",
   "execution_count": 106,
   "metadata": {},
   "outputs": [
    {
     "data": {
      "text/plain": [
       "4"
      ]
     },
     "execution_count": 106,
     "metadata": {},
     "output_type": "execute_result"
    }
   ],
   "source": [
    "df['date'][0].month"
   ]
  },
  {
   "cell_type": "code",
   "execution_count": 107,
   "metadata": {},
   "outputs": [
    {
     "data": {
      "text/plain": [
       "18"
      ]
     },
     "execution_count": 107,
     "metadata": {},
     "output_type": "execute_result"
    }
   ],
   "source": [
    "df['date'][0].day"
   ]
  },
  {
   "cell_type": "code",
   "execution_count": 108,
   "metadata": {
    "collapsed": true
   },
   "outputs": [],
   "source": [
    "# get sentiment score\n",
    "\n",
    "headline_score = []\n",
    "story_score = []\n",
    "\n",
    "for i in range(len(df)):\n",
    "    headline_score.append(sentiment_score(df['headline'][i]))\n",
    "    story_score.append(sentiment_score(df['story'][i]))"
   ]
  },
  {
   "cell_type": "code",
   "execution_count": 109,
   "metadata": {},
   "outputs": [
    {
     "data": {
      "text/plain": [
       "1000"
      ]
     },
     "execution_count": 109,
     "metadata": {},
     "output_type": "execute_result"
    }
   ],
   "source": [
    "len(headline_score)"
   ]
  },
  {
   "cell_type": "code",
   "execution_count": 110,
   "metadata": {},
   "outputs": [
    {
     "data": {
      "text/plain": [
       "1000"
      ]
     },
     "execution_count": 110,
     "metadata": {},
     "output_type": "execute_result"
    }
   ],
   "source": [
    "len(story_score)"
   ]
  },
  {
   "cell_type": "code",
   "execution_count": 113,
   "metadata": {},
   "outputs": [
    {
     "data": {
      "text/html": [
       "<div>\n",
       "<style>\n",
       "    .dataframe thead tr:only-child th {\n",
       "        text-align: right;\n",
       "    }\n",
       "\n",
       "    .dataframe thead th {\n",
       "        text-align: left;\n",
       "    }\n",
       "\n",
       "    .dataframe tbody tr th {\n",
       "        vertical-align: top;\n",
       "    }\n",
       "</style>\n",
       "<table border=\"1\" class=\"dataframe\">\n",
       "  <thead>\n",
       "    <tr style=\"text-align: right;\">\n",
       "      <th></th>\n",
       "      <th>date</th>\n",
       "      <th>headline</th>\n",
       "      <th>story</th>\n",
       "      <th>headline_score</th>\n",
       "      <th>story_score</th>\n",
       "      <th>avg_score</th>\n",
       "    </tr>\n",
       "  </thead>\n",
       "  <tbody>\n",
       "    <tr>\n",
       "      <th>0</th>\n",
       "      <td>2018-04-18 00:00:00</td>\n",
       "      <td>Amazon's Bezos Reveals Company Has Topped 100...</td>\n",
       "      <td>Mark Mahaney, analyst at RBC Capital...</td>\n",
       "      <td>0.017857</td>\n",
       "      <td>0.007210</td>\n",
       "      <td>0.012533</td>\n",
       "    </tr>\n",
       "    <tr>\n",
       "      <th>1</th>\n",
       "      <td>2018-04-18 00:00:00</td>\n",
       "      <td>RBC's Mahaney Sees 200 Million Amazon Prime M...</td>\n",
       "      <td>Mark Maha...</td>\n",
       "      <td>0.027778</td>\n",
       "      <td>0.023450</td>\n",
       "      <td>0.025614</td>\n",
       "    </tr>\n",
       "    <tr>\n",
       "      <th>2</th>\n",
       "      <td>2018-04-18 00:00:00</td>\n",
       "      <td>Postal Board Nominees Willing to Challenge Tr...</td>\n",
       "      <td>confidential agreements that are negotiated w...</td>\n",
       "      <td>0.033036</td>\n",
       "      <td>0.012763</td>\n",
       "      <td>0.022899</td>\n",
       "    </tr>\n",
       "    <tr>\n",
       "      <th>3</th>\n",
       "      <td>2018-04-18 00:00:00</td>\n",
       "      <td>NBA Video-Game League to Stream Exclusively o...</td>\n",
       "      <td>video-game league signed a multiyear broadcas...</td>\n",
       "      <td>-0.043750</td>\n",
       "      <td>-0.004167</td>\n",
       "      <td>-0.023958</td>\n",
       "    </tr>\n",
       "    <tr>\n",
       "      <th>4</th>\n",
       "      <td>2018-04-18 00:00:00</td>\n",
       "      <td>Jeff Bezos Says Amazon Has Exceeded 100 Milli...</td>\n",
       "      <td>Amazon.com Chief Executive Officer Jeff Bezos...</td>\n",
       "      <td>0.029762</td>\n",
       "      <td>0.030203</td>\n",
       "      <td>0.029983</td>\n",
       "    </tr>\n",
       "  </tbody>\n",
       "</table>\n",
       "</div>"
      ],
      "text/plain": [
       "                  date                                           headline  \\\n",
       "0  2018-04-18 00:00:00   Amazon's Bezos Reveals Company Has Topped 100...   \n",
       "1  2018-04-18 00:00:00   RBC's Mahaney Sees 200 Million Amazon Prime M...   \n",
       "2  2018-04-18 00:00:00   Postal Board Nominees Willing to Challenge Tr...   \n",
       "3  2018-04-18 00:00:00   NBA Video-Game League to Stream Exclusively o...   \n",
       "4  2018-04-18 00:00:00   Jeff Bezos Says Amazon Has Exceeded 100 Milli...   \n",
       "\n",
       "                                               story  headline_score  \\\n",
       "0            Mark Mahaney, analyst at RBC Capital...        0.017857   \n",
       "1                                       Mark Maha...        0.027778   \n",
       "2   confidential agreements that are negotiated w...        0.033036   \n",
       "3   video-game league signed a multiyear broadcas...       -0.043750   \n",
       "4   Amazon.com Chief Executive Officer Jeff Bezos...        0.029762   \n",
       "\n",
       "   story_score  avg_score  \n",
       "0     0.007210   0.012533  \n",
       "1     0.023450   0.025614  \n",
       "2     0.012763   0.022899  \n",
       "3    -0.004167  -0.023958  \n",
       "4     0.030203   0.029983  "
      ]
     },
     "execution_count": 113,
     "metadata": {},
     "output_type": "execute_result"
    }
   ],
   "source": [
    "df['headline_score'] = headline_score\n",
    "df['story_score'] = story_score\n",
    "df['avg_score'] = (df['headline_score'] + df['story_score']) / 2\n",
    "\n",
    "df.head()"
   ]
  },
  {
   "cell_type": "code",
   "execution_count": 114,
   "metadata": {},
   "outputs": [
    {
     "data": {
      "text/html": [
       "<div>\n",
       "<style>\n",
       "    .dataframe thead tr:only-child th {\n",
       "        text-align: right;\n",
       "    }\n",
       "\n",
       "    .dataframe thead th {\n",
       "        text-align: left;\n",
       "    }\n",
       "\n",
       "    .dataframe tbody tr th {\n",
       "        vertical-align: top;\n",
       "    }\n",
       "</style>\n",
       "<table border=\"1\" class=\"dataframe\">\n",
       "  <thead>\n",
       "    <tr style=\"text-align: right;\">\n",
       "      <th></th>\n",
       "      <th>date</th>\n",
       "      <th>headline</th>\n",
       "      <th>story</th>\n",
       "      <th>headline_score</th>\n",
       "      <th>story_score</th>\n",
       "      <th>avg_score</th>\n",
       "    </tr>\n",
       "  </thead>\n",
       "  <tbody>\n",
       "    <tr>\n",
       "      <th>995</th>\n",
       "      <td>2018-01-30 00:00:00</td>\n",
       "      <td>Surveillance: NAFTA Decision will be Market M...</td>\n",
       "      <td>the tax cuts. Max Nisen, Bloomberg Gadfly Col...</td>\n",
       "      <td>0.030769</td>\n",
       "      <td>0.010611</td>\n",
       "      <td>0.020690</td>\n",
       "    </tr>\n",
       "    <tr>\n",
       "      <th>996</th>\n",
       "      <td>2018-02-01 00:00:00</td>\n",
       "      <td>Conglomerates Are Broken</td>\n",
       "      <td>mentioned as candidates for breakups. The Dig...</td>\n",
       "      <td>0.004808</td>\n",
       "      <td>0.001377</td>\n",
       "      <td>0.003092</td>\n",
       "    </tr>\n",
       "    <tr>\n",
       "      <th>997</th>\n",
       "      <td>2018-02-01 00:00:00</td>\n",
       "      <td>iPhone X Puts Apple in Crosshairs of Nervous ...</td>\n",
       "      <td>stands above all others as the two-day blitz ...</td>\n",
       "      <td>0.000000</td>\n",
       "      <td>0.001894</td>\n",
       "      <td>0.000947</td>\n",
       "    </tr>\n",
       "    <tr>\n",
       "      <th>998</th>\n",
       "      <td>2018-01-31 00:00:00</td>\n",
       "      <td>Bloomberg Baystate Business: Markets, Health ...</td>\n",
       "      <td>Bloomberg News reporter Zachary Tracer talked...</td>\n",
       "      <td>0.088542</td>\n",
       "      <td>-0.002813</td>\n",
       "      <td>0.042864</td>\n",
       "    </tr>\n",
       "    <tr>\n",
       "      <th>999</th>\n",
       "      <td>2018-02-01 00:00:00</td>\n",
       "      <td>Now Even the Empire State Building Has Space ...</td>\n",
       "      <td>last week by brokerage Cushman &amp; Wakefield. S...</td>\n",
       "      <td>-0.012897</td>\n",
       "      <td>-0.018964</td>\n",
       "      <td>-0.015931</td>\n",
       "    </tr>\n",
       "  </tbody>\n",
       "</table>\n",
       "</div>"
      ],
      "text/plain": [
       "                    date                                           headline  \\\n",
       "995  2018-01-30 00:00:00   Surveillance: NAFTA Decision will be Market M...   \n",
       "996  2018-02-01 00:00:00                          Conglomerates Are Broken    \n",
       "997  2018-02-01 00:00:00   iPhone X Puts Apple in Crosshairs of Nervous ...   \n",
       "998  2018-01-31 00:00:00   Bloomberg Baystate Business: Markets, Health ...   \n",
       "999  2018-02-01 00:00:00   Now Even the Empire State Building Has Space ...   \n",
       "\n",
       "                                                 story  headline_score  \\\n",
       "995   the tax cuts. Max Nisen, Bloomberg Gadfly Col...        0.030769   \n",
       "996   mentioned as candidates for breakups. The Dig...        0.004808   \n",
       "997   stands above all others as the two-day blitz ...        0.000000   \n",
       "998   Bloomberg News reporter Zachary Tracer talked...        0.088542   \n",
       "999   last week by brokerage Cushman & Wakefield. S...       -0.012897   \n",
       "\n",
       "     story_score  avg_score  \n",
       "995     0.010611   0.020690  \n",
       "996     0.001377   0.003092  \n",
       "997     0.001894   0.000947  \n",
       "998    -0.002813   0.042864  \n",
       "999    -0.018964  -0.015931  "
      ]
     },
     "execution_count": 114,
     "metadata": {},
     "output_type": "execute_result"
    }
   ],
   "source": [
    "df.tail()"
   ]
  },
  {
   "cell_type": "code",
   "execution_count": 115,
   "metadata": {
    "collapsed": true
   },
   "outputs": [],
   "source": [
    "# get average score for news of the same day\n",
    "\n",
    "day_list = df['date'].unique().tolist()"
   ]
  },
  {
   "cell_type": "code",
   "execution_count": 116,
   "metadata": {},
   "outputs": [
    {
     "data": {
      "text/plain": [
       "73"
      ]
     },
     "execution_count": 116,
     "metadata": {},
     "output_type": "execute_result"
    }
   ],
   "source": [
    "len(day_list)"
   ]
  },
  {
   "cell_type": "code",
   "execution_count": 117,
   "metadata": {},
   "outputs": [
    {
     "data": {
      "text/plain": [
       "[datetime.datetime(2018, 4, 18, 0, 0),\n",
       " datetime.datetime(2018, 4, 16, 0, 0),\n",
       " datetime.datetime(2018, 4, 17, 0, 0),\n",
       " datetime.datetime(2018, 4, 14, 0, 0),\n",
       " datetime.datetime(2018, 4, 12, 0, 0),\n",
       " datetime.datetime(2018, 4, 13, 0, 0),\n",
       " datetime.datetime(2018, 4, 11, 0, 0),\n",
       " datetime.datetime(2018, 4, 10, 0, 0),\n",
       " datetime.datetime(2018, 4, 9, 0, 0),\n",
       " datetime.datetime(2018, 4, 8, 0, 0)]"
      ]
     },
     "execution_count": 117,
     "metadata": {},
     "output_type": "execute_result"
    }
   ],
   "source": [
    "day_list[:10]"
   ]
  },
  {
   "cell_type": "code",
   "execution_count": 120,
   "metadata": {},
   "outputs": [
    {
     "data": {
      "text/plain": [
       "1"
      ]
     },
     "execution_count": 120,
     "metadata": {},
     "output_type": "execute_result"
    }
   ],
   "source": [
    "# weekday needs to add 1 to be correct\n",
    "# due to all the times becomes 00:00\n",
    "\n",
    "df['date'][995].weekday()"
   ]
  },
  {
   "cell_type": "code",
   "execution_count": 123,
   "metadata": {
    "collapsed": true
   },
   "outputs": [],
   "source": [
    "headline_score_daily = []\n",
    "story_score_daily = []\n",
    "\n",
    "for i in range(0,len(day_list)):\n",
    "    \n",
    "    headline_score_avg = np.mean(df[df['date']==day_list[i]]['headline_score'].tolist())\n",
    "    headline_score_daily.append(headline_score_avg)\n",
    "    \n",
    "    story_score_avg = np.mean(df[df['date']==day_list[i]]['story_score'].tolist())\n",
    "    story_score_daily.append(story_score_avg)"
   ]
  },
  {
   "cell_type": "code",
   "execution_count": 124,
   "metadata": {},
   "outputs": [
    {
     "data": {
      "text/plain": [
       "73"
      ]
     },
     "execution_count": 124,
     "metadata": {},
     "output_type": "execute_result"
    }
   ],
   "source": [
    "len(headline_score_daily)"
   ]
  },
  {
   "cell_type": "code",
   "execution_count": 125,
   "metadata": {},
   "outputs": [
    {
     "data": {
      "text/plain": [
       "73"
      ]
     },
     "execution_count": 125,
     "metadata": {},
     "output_type": "execute_result"
    }
   ],
   "source": [
    "len(story_score_daily)"
   ]
  },
  {
   "cell_type": "code",
   "execution_count": 126,
   "metadata": {
    "collapsed": true
   },
   "outputs": [],
   "source": [
    "# combine the daily scores to a dataframe\n",
    "\n",
    "daydf = pd.DataFrame()\n",
    "\n",
    "daydf['date'] = day_list\n",
    "daydf['headline_score'] = headline_score_daily\n",
    "daydf['story_score'] = story_score_daily\n",
    "daydf['avg_score'] = (daydf['headline_score'] + daydf['story_score']) / 2"
   ]
  },
  {
   "cell_type": "code",
   "execution_count": 127,
   "metadata": {},
   "outputs": [
    {
     "data": {
      "text/html": [
       "<div>\n",
       "<style>\n",
       "    .dataframe thead tr:only-child th {\n",
       "        text-align: right;\n",
       "    }\n",
       "\n",
       "    .dataframe thead th {\n",
       "        text-align: left;\n",
       "    }\n",
       "\n",
       "    .dataframe tbody tr th {\n",
       "        vertical-align: top;\n",
       "    }\n",
       "</style>\n",
       "<table border=\"1\" class=\"dataframe\">\n",
       "  <thead>\n",
       "    <tr style=\"text-align: right;\">\n",
       "      <th></th>\n",
       "      <th>date</th>\n",
       "      <th>headline_score</th>\n",
       "      <th>story_score</th>\n",
       "      <th>avg_score</th>\n",
       "    </tr>\n",
       "  </thead>\n",
       "  <tbody>\n",
       "    <tr>\n",
       "      <th>0</th>\n",
       "      <td>2018-04-18</td>\n",
       "      <td>0.003877</td>\n",
       "      <td>-0.002758</td>\n",
       "      <td>0.000560</td>\n",
       "    </tr>\n",
       "    <tr>\n",
       "      <th>1</th>\n",
       "      <td>2018-04-16</td>\n",
       "      <td>0.013159</td>\n",
       "      <td>-0.000184</td>\n",
       "      <td>0.006487</td>\n",
       "    </tr>\n",
       "    <tr>\n",
       "      <th>2</th>\n",
       "      <td>2018-04-17</td>\n",
       "      <td>-0.002557</td>\n",
       "      <td>0.006168</td>\n",
       "      <td>0.001806</td>\n",
       "    </tr>\n",
       "    <tr>\n",
       "      <th>3</th>\n",
       "      <td>2018-04-14</td>\n",
       "      <td>0.010503</td>\n",
       "      <td>0.024096</td>\n",
       "      <td>0.017300</td>\n",
       "    </tr>\n",
       "    <tr>\n",
       "      <th>4</th>\n",
       "      <td>2018-04-12</td>\n",
       "      <td>0.006610</td>\n",
       "      <td>0.007125</td>\n",
       "      <td>0.006867</td>\n",
       "    </tr>\n",
       "  </tbody>\n",
       "</table>\n",
       "</div>"
      ],
      "text/plain": [
       "        date  headline_score  story_score  avg_score\n",
       "0 2018-04-18        0.003877    -0.002758   0.000560\n",
       "1 2018-04-16        0.013159    -0.000184   0.006487\n",
       "2 2018-04-17       -0.002557     0.006168   0.001806\n",
       "3 2018-04-14        0.010503     0.024096   0.017300\n",
       "4 2018-04-12        0.006610     0.007125   0.006867"
      ]
     },
     "execution_count": 127,
     "metadata": {},
     "output_type": "execute_result"
    }
   ],
   "source": [
    "daydf.head()"
   ]
  },
  {
   "cell_type": "code",
   "execution_count": 128,
   "metadata": {},
   "outputs": [
    {
     "data": {
      "text/html": [
       "<div>\n",
       "<style>\n",
       "    .dataframe thead tr:only-child th {\n",
       "        text-align: right;\n",
       "    }\n",
       "\n",
       "    .dataframe thead th {\n",
       "        text-align: left;\n",
       "    }\n",
       "\n",
       "    .dataframe tbody tr th {\n",
       "        vertical-align: top;\n",
       "    }\n",
       "</style>\n",
       "<table border=\"1\" class=\"dataframe\">\n",
       "  <thead>\n",
       "    <tr style=\"text-align: right;\">\n",
       "      <th></th>\n",
       "      <th>date</th>\n",
       "      <th>headline_score</th>\n",
       "      <th>story_score</th>\n",
       "      <th>avg_score</th>\n",
       "    </tr>\n",
       "  </thead>\n",
       "  <tbody>\n",
       "    <tr>\n",
       "      <th>68</th>\n",
       "      <td>2018-02-05</td>\n",
       "      <td>0.009451</td>\n",
       "      <td>-0.019280</td>\n",
       "      <td>-0.004914</td>\n",
       "    </tr>\n",
       "    <tr>\n",
       "      <th>69</th>\n",
       "      <td>2018-01-30</td>\n",
       "      <td>0.009270</td>\n",
       "      <td>0.004983</td>\n",
       "      <td>0.007127</td>\n",
       "    </tr>\n",
       "    <tr>\n",
       "      <th>70</th>\n",
       "      <td>2018-01-29</td>\n",
       "      <td>-0.033335</td>\n",
       "      <td>-0.002715</td>\n",
       "      <td>-0.018025</td>\n",
       "    </tr>\n",
       "    <tr>\n",
       "      <th>71</th>\n",
       "      <td>2018-02-03</td>\n",
       "      <td>-0.013889</td>\n",
       "      <td>-0.032556</td>\n",
       "      <td>-0.023223</td>\n",
       "    </tr>\n",
       "    <tr>\n",
       "      <th>72</th>\n",
       "      <td>2018-01-28</td>\n",
       "      <td>0.022254</td>\n",
       "      <td>-0.009485</td>\n",
       "      <td>0.006384</td>\n",
       "    </tr>\n",
       "  </tbody>\n",
       "</table>\n",
       "</div>"
      ],
      "text/plain": [
       "         date  headline_score  story_score  avg_score\n",
       "68 2018-02-05        0.009451    -0.019280  -0.004914\n",
       "69 2018-01-30        0.009270     0.004983   0.007127\n",
       "70 2018-01-29       -0.033335    -0.002715  -0.018025\n",
       "71 2018-02-03       -0.013889    -0.032556  -0.023223\n",
       "72 2018-01-28        0.022254    -0.009485   0.006384"
      ]
     },
     "execution_count": 128,
     "metadata": {},
     "output_type": "execute_result"
    }
   ],
   "source": [
    "daydf.tail()"
   ]
  },
  {
   "cell_type": "code",
   "execution_count": 130,
   "metadata": {
    "collapsed": true
   },
   "outputs": [],
   "source": [
    "# order by date\n",
    "\n",
    "daydf = daydf.sort_values(by=['date'])"
   ]
  },
  {
   "cell_type": "code",
   "execution_count": 131,
   "metadata": {},
   "outputs": [
    {
     "data": {
      "text/html": [
       "<div>\n",
       "<style>\n",
       "    .dataframe thead tr:only-child th {\n",
       "        text-align: right;\n",
       "    }\n",
       "\n",
       "    .dataframe thead th {\n",
       "        text-align: left;\n",
       "    }\n",
       "\n",
       "    .dataframe tbody tr th {\n",
       "        vertical-align: top;\n",
       "    }\n",
       "</style>\n",
       "<table border=\"1\" class=\"dataframe\">\n",
       "  <thead>\n",
       "    <tr style=\"text-align: right;\">\n",
       "      <th></th>\n",
       "      <th>date</th>\n",
       "      <th>headline_score</th>\n",
       "      <th>story_score</th>\n",
       "      <th>avg_score</th>\n",
       "    </tr>\n",
       "  </thead>\n",
       "  <tbody>\n",
       "    <tr>\n",
       "      <th>72</th>\n",
       "      <td>2018-01-28</td>\n",
       "      <td>0.022254</td>\n",
       "      <td>-0.009485</td>\n",
       "      <td>0.006384</td>\n",
       "    </tr>\n",
       "    <tr>\n",
       "      <th>70</th>\n",
       "      <td>2018-01-29</td>\n",
       "      <td>-0.033335</td>\n",
       "      <td>-0.002715</td>\n",
       "      <td>-0.018025</td>\n",
       "    </tr>\n",
       "    <tr>\n",
       "      <th>69</th>\n",
       "      <td>2018-01-30</td>\n",
       "      <td>0.009270</td>\n",
       "      <td>0.004983</td>\n",
       "      <td>0.007127</td>\n",
       "    </tr>\n",
       "    <tr>\n",
       "      <th>67</th>\n",
       "      <td>2018-01-31</td>\n",
       "      <td>0.052435</td>\n",
       "      <td>0.026948</td>\n",
       "      <td>0.039692</td>\n",
       "    </tr>\n",
       "    <tr>\n",
       "      <th>66</th>\n",
       "      <td>2018-02-01</td>\n",
       "      <td>0.002022</td>\n",
       "      <td>0.016211</td>\n",
       "      <td>0.009117</td>\n",
       "    </tr>\n",
       "  </tbody>\n",
       "</table>\n",
       "</div>"
      ],
      "text/plain": [
       "         date  headline_score  story_score  avg_score\n",
       "72 2018-01-28        0.022254    -0.009485   0.006384\n",
       "70 2018-01-29       -0.033335    -0.002715  -0.018025\n",
       "69 2018-01-30        0.009270     0.004983   0.007127\n",
       "67 2018-01-31        0.052435     0.026948   0.039692\n",
       "66 2018-02-01        0.002022     0.016211   0.009117"
      ]
     },
     "execution_count": 131,
     "metadata": {},
     "output_type": "execute_result"
    }
   ],
   "source": [
    "daydf.head()"
   ]
  },
  {
   "cell_type": "code",
   "execution_count": 132,
   "metadata": {},
   "outputs": [
    {
     "data": {
      "text/html": [
       "<div>\n",
       "<style>\n",
       "    .dataframe thead tr:only-child th {\n",
       "        text-align: right;\n",
       "    }\n",
       "\n",
       "    .dataframe thead th {\n",
       "        text-align: left;\n",
       "    }\n",
       "\n",
       "    .dataframe tbody tr th {\n",
       "        vertical-align: top;\n",
       "    }\n",
       "</style>\n",
       "<table border=\"1\" class=\"dataframe\">\n",
       "  <thead>\n",
       "    <tr style=\"text-align: right;\">\n",
       "      <th></th>\n",
       "      <th>date</th>\n",
       "      <th>headline_score</th>\n",
       "      <th>story_score</th>\n",
       "      <th>avg_score</th>\n",
       "    </tr>\n",
       "  </thead>\n",
       "  <tbody>\n",
       "    <tr>\n",
       "      <th>5</th>\n",
       "      <td>2018-04-13</td>\n",
       "      <td>-0.004955</td>\n",
       "      <td>0.007302</td>\n",
       "      <td>0.001174</td>\n",
       "    </tr>\n",
       "    <tr>\n",
       "      <th>3</th>\n",
       "      <td>2018-04-14</td>\n",
       "      <td>0.010503</td>\n",
       "      <td>0.024096</td>\n",
       "      <td>0.017300</td>\n",
       "    </tr>\n",
       "    <tr>\n",
       "      <th>1</th>\n",
       "      <td>2018-04-16</td>\n",
       "      <td>0.013159</td>\n",
       "      <td>-0.000184</td>\n",
       "      <td>0.006487</td>\n",
       "    </tr>\n",
       "    <tr>\n",
       "      <th>2</th>\n",
       "      <td>2018-04-17</td>\n",
       "      <td>-0.002557</td>\n",
       "      <td>0.006168</td>\n",
       "      <td>0.001806</td>\n",
       "    </tr>\n",
       "    <tr>\n",
       "      <th>0</th>\n",
       "      <td>2018-04-18</td>\n",
       "      <td>0.003877</td>\n",
       "      <td>-0.002758</td>\n",
       "      <td>0.000560</td>\n",
       "    </tr>\n",
       "  </tbody>\n",
       "</table>\n",
       "</div>"
      ],
      "text/plain": [
       "        date  headline_score  story_score  avg_score\n",
       "5 2018-04-13       -0.004955     0.007302   0.001174\n",
       "3 2018-04-14        0.010503     0.024096   0.017300\n",
       "1 2018-04-16        0.013159    -0.000184   0.006487\n",
       "2 2018-04-17       -0.002557     0.006168   0.001806\n",
       "0 2018-04-18        0.003877    -0.002758   0.000560"
      ]
     },
     "execution_count": 132,
     "metadata": {},
     "output_type": "execute_result"
    }
   ],
   "source": [
    "daydf.tail()"
   ]
  },
  {
   "cell_type": "code",
   "execution_count": 133,
   "metadata": {
    "collapsed": true
   },
   "outputs": [],
   "source": [
    "# write dataframe to csv file\n",
    "\n",
    "daydf.to_csv('score_day.csv')"
   ]
  },
  {
   "cell_type": "markdown",
   "metadata": {},
   "source": [
    "## nltk vader module"
   ]
  },
  {
   "cell_type": "code",
   "execution_count": 134,
   "metadata": {},
   "outputs": [
    {
     "name": "stderr",
     "output_type": "stream",
     "text": [
      "C:\\Users\\movin\\Anaconda3\\lib\\site-packages\\nltk\\twitter\\__init__.py:20: UserWarning: The twython library has not been installed. Some functionality from the twitter package will not be available.\n",
      "  warnings.warn(\"The twython library has not been installed. \"\n"
     ]
    }
   ],
   "source": [
    "from nltk.sentiment.vader import SentimentIntensityAnalyzer"
   ]
  },
  {
   "cell_type": "code",
   "execution_count": 135,
   "metadata": {
    "collapsed": true
   },
   "outputs": [],
   "source": [
    "sid = SentimentIntensityAnalyzer()"
   ]
  },
  {
   "cell_type": "code",
   "execution_count": 147,
   "metadata": {
    "collapsed": true
   },
   "outputs": [],
   "source": [
    "sentence = \"Jeff Bezos Says Amazon Has Exceeded 100 Million Paid Prime Members\"\n",
    "\n",
    "ss = sid.polarity_scores(sentence)"
   ]
  },
  {
   "cell_type": "code",
   "execution_count": 148,
   "metadata": {},
   "outputs": [
    {
     "name": "stdout",
     "output_type": "stream",
     "text": [
      "compound: 0.1779, \n",
      "neg: 0.0, \n",
      "neu: 0.855, \n",
      "pos: 0.145, \n"
     ]
    }
   ],
   "source": [
    "for k in sorted(ss):\n",
    "    print('{0}: {1}, '.format(k, ss[k]), end='')\n",
    "    print()"
   ]
  },
  {
   "cell_type": "code",
   "execution_count": 150,
   "metadata": {},
   "outputs": [
    {
     "data": {
      "text/plain": [
       "0.1779"
      ]
     },
     "execution_count": 150,
     "metadata": {},
     "output_type": "execute_result"
    }
   ],
   "source": [
    "ss['compound']"
   ]
  },
  {
   "cell_type": "code",
   "execution_count": 149,
   "metadata": {},
   "outputs": [
    {
     "data": {
      "text/html": [
       "<div>\n",
       "<style>\n",
       "    .dataframe thead tr:only-child th {\n",
       "        text-align: right;\n",
       "    }\n",
       "\n",
       "    .dataframe thead th {\n",
       "        text-align: left;\n",
       "    }\n",
       "\n",
       "    .dataframe tbody tr th {\n",
       "        vertical-align: top;\n",
       "    }\n",
       "</style>\n",
       "<table border=\"1\" class=\"dataframe\">\n",
       "  <thead>\n",
       "    <tr style=\"text-align: right;\">\n",
       "      <th></th>\n",
       "      <th>date</th>\n",
       "      <th>headline</th>\n",
       "      <th>story</th>\n",
       "      <th>headline_score</th>\n",
       "      <th>story_score</th>\n",
       "      <th>avg_score</th>\n",
       "    </tr>\n",
       "  </thead>\n",
       "  <tbody>\n",
       "    <tr>\n",
       "      <th>0</th>\n",
       "      <td>2018-04-18 00:00:00</td>\n",
       "      <td>Amazon's Bezos Reveals Company Has Topped 100...</td>\n",
       "      <td>Mark Mahaney, analyst at RBC Capital...</td>\n",
       "      <td>0.017857</td>\n",
       "      <td>0.007210</td>\n",
       "      <td>0.012533</td>\n",
       "    </tr>\n",
       "    <tr>\n",
       "      <th>1</th>\n",
       "      <td>2018-04-18 00:00:00</td>\n",
       "      <td>RBC's Mahaney Sees 200 Million Amazon Prime M...</td>\n",
       "      <td>Mark Maha...</td>\n",
       "      <td>0.027778</td>\n",
       "      <td>0.023450</td>\n",
       "      <td>0.025614</td>\n",
       "    </tr>\n",
       "    <tr>\n",
       "      <th>2</th>\n",
       "      <td>2018-04-18 00:00:00</td>\n",
       "      <td>Postal Board Nominees Willing to Challenge Tr...</td>\n",
       "      <td>confidential agreements that are negotiated w...</td>\n",
       "      <td>0.033036</td>\n",
       "      <td>0.012763</td>\n",
       "      <td>0.022899</td>\n",
       "    </tr>\n",
       "    <tr>\n",
       "      <th>3</th>\n",
       "      <td>2018-04-18 00:00:00</td>\n",
       "      <td>NBA Video-Game League to Stream Exclusively o...</td>\n",
       "      <td>video-game league signed a multiyear broadcas...</td>\n",
       "      <td>-0.043750</td>\n",
       "      <td>-0.004167</td>\n",
       "      <td>-0.023958</td>\n",
       "    </tr>\n",
       "    <tr>\n",
       "      <th>4</th>\n",
       "      <td>2018-04-18 00:00:00</td>\n",
       "      <td>Jeff Bezos Says Amazon Has Exceeded 100 Milli...</td>\n",
       "      <td>Amazon.com Chief Executive Officer Jeff Bezos...</td>\n",
       "      <td>0.029762</td>\n",
       "      <td>0.030203</td>\n",
       "      <td>0.029983</td>\n",
       "    </tr>\n",
       "  </tbody>\n",
       "</table>\n",
       "</div>"
      ],
      "text/plain": [
       "                  date                                           headline  \\\n",
       "0  2018-04-18 00:00:00   Amazon's Bezos Reveals Company Has Topped 100...   \n",
       "1  2018-04-18 00:00:00   RBC's Mahaney Sees 200 Million Amazon Prime M...   \n",
       "2  2018-04-18 00:00:00   Postal Board Nominees Willing to Challenge Tr...   \n",
       "3  2018-04-18 00:00:00   NBA Video-Game League to Stream Exclusively o...   \n",
       "4  2018-04-18 00:00:00   Jeff Bezos Says Amazon Has Exceeded 100 Milli...   \n",
       "\n",
       "                                               story  headline_score  \\\n",
       "0            Mark Mahaney, analyst at RBC Capital...        0.017857   \n",
       "1                                       Mark Maha...        0.027778   \n",
       "2   confidential agreements that are negotiated w...        0.033036   \n",
       "3   video-game league signed a multiyear broadcas...       -0.043750   \n",
       "4   Amazon.com Chief Executive Officer Jeff Bezos...        0.029762   \n",
       "\n",
       "   story_score  avg_score  \n",
       "0     0.007210   0.012533  \n",
       "1     0.023450   0.025614  \n",
       "2     0.012763   0.022899  \n",
       "3    -0.004167  -0.023958  \n",
       "4     0.030203   0.029983  "
      ]
     },
     "execution_count": 149,
     "metadata": {},
     "output_type": "execute_result"
    }
   ],
   "source": [
    "df.head()"
   ]
  },
  {
   "cell_type": "code",
   "execution_count": 151,
   "metadata": {
    "collapsed": true
   },
   "outputs": [],
   "source": [
    "# define a function to get sentiment score\n",
    "\n",
    "def sid_score(sentence):\n",
    "    \"\"\"input a string, output a compound sentiment score\"\"\"\n",
    "    sid = SentimentIntensityAnalyzer()\n",
    "    ss = sid.polarity_scores(sentence)\n",
    "    return ss['compound']"
   ]
  },
  {
   "cell_type": "code",
   "execution_count": 152,
   "metadata": {},
   "outputs": [
    {
     "data": {
      "text/plain": [
       "0.1779"
      ]
     },
     "execution_count": 152,
     "metadata": {},
     "output_type": "execute_result"
    }
   ],
   "source": [
    "sid_score(sentence)"
   ]
  },
  {
   "cell_type": "code",
   "execution_count": 153,
   "metadata": {
    "collapsed": true
   },
   "outputs": [],
   "source": [
    "# get sentiment score\n",
    "\n",
    "headline_score = []\n",
    "story_score = []\n",
    "\n",
    "for i in range(len(df)):\n",
    "    headline_score.append(sid_score(df['headline'][i]))\n",
    "    story_score.append(sid_score(df['story'][i]))"
   ]
  },
  {
   "cell_type": "code",
   "execution_count": 154,
   "metadata": {},
   "outputs": [
    {
     "data": {
      "text/html": [
       "<div>\n",
       "<style>\n",
       "    .dataframe thead tr:only-child th {\n",
       "        text-align: right;\n",
       "    }\n",
       "\n",
       "    .dataframe thead th {\n",
       "        text-align: left;\n",
       "    }\n",
       "\n",
       "    .dataframe tbody tr th {\n",
       "        vertical-align: top;\n",
       "    }\n",
       "</style>\n",
       "<table border=\"1\" class=\"dataframe\">\n",
       "  <thead>\n",
       "    <tr style=\"text-align: right;\">\n",
       "      <th></th>\n",
       "      <th>date</th>\n",
       "      <th>headline</th>\n",
       "      <th>story</th>\n",
       "      <th>headline_score</th>\n",
       "      <th>story_score</th>\n",
       "      <th>avg_score</th>\n",
       "    </tr>\n",
       "  </thead>\n",
       "  <tbody>\n",
       "    <tr>\n",
       "      <th>0</th>\n",
       "      <td>2018-04-18 00:00:00</td>\n",
       "      <td>Amazon's Bezos Reveals Company Has Topped 100...</td>\n",
       "      <td>Mark Mahaney, analyst at RBC Capital...</td>\n",
       "      <td>0.0000</td>\n",
       "      <td>0.1779</td>\n",
       "      <td>0.08895</td>\n",
       "    </tr>\n",
       "    <tr>\n",
       "      <th>1</th>\n",
       "      <td>2018-04-18 00:00:00</td>\n",
       "      <td>RBC's Mahaney Sees 200 Million Amazon Prime M...</td>\n",
       "      <td>Mark Maha...</td>\n",
       "      <td>0.1779</td>\n",
       "      <td>0.0000</td>\n",
       "      <td>0.08895</td>\n",
       "    </tr>\n",
       "    <tr>\n",
       "      <th>2</th>\n",
       "      <td>2018-04-18 00:00:00</td>\n",
       "      <td>Postal Board Nominees Willing to Challenge Tr...</td>\n",
       "      <td>confidential agreements that are negotiated w...</td>\n",
       "      <td>-0.1027</td>\n",
       "      <td>0.6808</td>\n",
       "      <td>0.28905</td>\n",
       "    </tr>\n",
       "    <tr>\n",
       "      <th>3</th>\n",
       "      <td>2018-04-18 00:00:00</td>\n",
       "      <td>NBA Video-Game League to Stream Exclusively o...</td>\n",
       "      <td>video-game league signed a multiyear broadcas...</td>\n",
       "      <td>0.0000</td>\n",
       "      <td>0.0000</td>\n",
       "      <td>0.00000</td>\n",
       "    </tr>\n",
       "    <tr>\n",
       "      <th>4</th>\n",
       "      <td>2018-04-18 00:00:00</td>\n",
       "      <td>Jeff Bezos Says Amazon Has Exceeded 100 Milli...</td>\n",
       "      <td>Amazon.com Chief Executive Officer Jeff Bezos...</td>\n",
       "      <td>0.1779</td>\n",
       "      <td>0.0000</td>\n",
       "      <td>0.08895</td>\n",
       "    </tr>\n",
       "  </tbody>\n",
       "</table>\n",
       "</div>"
      ],
      "text/plain": [
       "                  date                                           headline  \\\n",
       "0  2018-04-18 00:00:00   Amazon's Bezos Reveals Company Has Topped 100...   \n",
       "1  2018-04-18 00:00:00   RBC's Mahaney Sees 200 Million Amazon Prime M...   \n",
       "2  2018-04-18 00:00:00   Postal Board Nominees Willing to Challenge Tr...   \n",
       "3  2018-04-18 00:00:00   NBA Video-Game League to Stream Exclusively o...   \n",
       "4  2018-04-18 00:00:00   Jeff Bezos Says Amazon Has Exceeded 100 Milli...   \n",
       "\n",
       "                                               story  headline_score  \\\n",
       "0            Mark Mahaney, analyst at RBC Capital...          0.0000   \n",
       "1                                       Mark Maha...          0.1779   \n",
       "2   confidential agreements that are negotiated w...         -0.1027   \n",
       "3   video-game league signed a multiyear broadcas...          0.0000   \n",
       "4   Amazon.com Chief Executive Officer Jeff Bezos...          0.1779   \n",
       "\n",
       "   story_score  avg_score  \n",
       "0       0.1779    0.08895  \n",
       "1       0.0000    0.08895  \n",
       "2       0.6808    0.28905  \n",
       "3       0.0000    0.00000  \n",
       "4       0.0000    0.08895  "
      ]
     },
     "execution_count": 154,
     "metadata": {},
     "output_type": "execute_result"
    }
   ],
   "source": [
    "# add score to dataframe\n",
    "\n",
    "df['headline_score'] = headline_score\n",
    "df['story_score'] = story_score\n",
    "df['avg_score'] = (df['headline_score'] + df['story_score']) / 2\n",
    "\n",
    "df.head()"
   ]
  },
  {
   "cell_type": "code",
   "execution_count": 155,
   "metadata": {
    "collapsed": true
   },
   "outputs": [],
   "source": [
    "# get average score for news of the same day\n",
    "\n",
    "day_list = df['date'].unique().tolist()"
   ]
  },
  {
   "cell_type": "code",
   "execution_count": 156,
   "metadata": {
    "collapsed": true
   },
   "outputs": [],
   "source": [
    "headline_score_daily = []\n",
    "story_score_daily = []\n",
    "\n",
    "for i in range(0,len(day_list)):\n",
    "    \n",
    "    headline_score_avg = np.mean(df[df['date']==day_list[i]]['headline_score'].tolist())\n",
    "    headline_score_daily.append(headline_score_avg)\n",
    "    \n",
    "    story_score_avg = np.mean(df[df['date']==day_list[i]]['story_score'].tolist())\n",
    "    story_score_daily.append(story_score_avg)"
   ]
  },
  {
   "cell_type": "code",
   "execution_count": 157,
   "metadata": {
    "collapsed": true
   },
   "outputs": [],
   "source": [
    "# combine the daily scores to a dataframe\n",
    "\n",
    "daydf = pd.DataFrame()\n",
    "\n",
    "daydf['date'] = day_list\n",
    "daydf['headline_score'] = headline_score_daily\n",
    "daydf['story_score'] = story_score_daily\n",
    "daydf['avg_score'] = (daydf['headline_score'] + daydf['story_score']) / 2"
   ]
  },
  {
   "cell_type": "code",
   "execution_count": 158,
   "metadata": {},
   "outputs": [
    {
     "data": {
      "text/html": [
       "<div>\n",
       "<style>\n",
       "    .dataframe thead tr:only-child th {\n",
       "        text-align: right;\n",
       "    }\n",
       "\n",
       "    .dataframe thead th {\n",
       "        text-align: left;\n",
       "    }\n",
       "\n",
       "    .dataframe tbody tr th {\n",
       "        vertical-align: top;\n",
       "    }\n",
       "</style>\n",
       "<table border=\"1\" class=\"dataframe\">\n",
       "  <thead>\n",
       "    <tr style=\"text-align: right;\">\n",
       "      <th></th>\n",
       "      <th>date</th>\n",
       "      <th>headline_score</th>\n",
       "      <th>story_score</th>\n",
       "      <th>avg_score</th>\n",
       "    </tr>\n",
       "  </thead>\n",
       "  <tbody>\n",
       "    <tr>\n",
       "      <th>0</th>\n",
       "      <td>2018-04-18</td>\n",
       "      <td>0.032985</td>\n",
       "      <td>0.091080</td>\n",
       "      <td>0.062033</td>\n",
       "    </tr>\n",
       "    <tr>\n",
       "      <th>1</th>\n",
       "      <td>2018-04-16</td>\n",
       "      <td>0.005354</td>\n",
       "      <td>0.300738</td>\n",
       "      <td>0.153046</td>\n",
       "    </tr>\n",
       "    <tr>\n",
       "      <th>2</th>\n",
       "      <td>2018-04-17</td>\n",
       "      <td>0.032700</td>\n",
       "      <td>-0.035092</td>\n",
       "      <td>-0.001196</td>\n",
       "    </tr>\n",
       "    <tr>\n",
       "      <th>3</th>\n",
       "      <td>2018-04-14</td>\n",
       "      <td>0.177900</td>\n",
       "      <td>0.226300</td>\n",
       "      <td>0.202100</td>\n",
       "    </tr>\n",
       "    <tr>\n",
       "      <th>4</th>\n",
       "      <td>2018-04-12</td>\n",
       "      <td>-0.022257</td>\n",
       "      <td>0.120136</td>\n",
       "      <td>0.048939</td>\n",
       "    </tr>\n",
       "  </tbody>\n",
       "</table>\n",
       "</div>"
      ],
      "text/plain": [
       "        date  headline_score  story_score  avg_score\n",
       "0 2018-04-18        0.032985     0.091080   0.062033\n",
       "1 2018-04-16        0.005354     0.300738   0.153046\n",
       "2 2018-04-17        0.032700    -0.035092  -0.001196\n",
       "3 2018-04-14        0.177900     0.226300   0.202100\n",
       "4 2018-04-12       -0.022257     0.120136   0.048939"
      ]
     },
     "execution_count": 158,
     "metadata": {},
     "output_type": "execute_result"
    }
   ],
   "source": [
    "daydf.head()"
   ]
  },
  {
   "cell_type": "code",
   "execution_count": 159,
   "metadata": {},
   "outputs": [
    {
     "data": {
      "text/html": [
       "<div>\n",
       "<style>\n",
       "    .dataframe thead tr:only-child th {\n",
       "        text-align: right;\n",
       "    }\n",
       "\n",
       "    .dataframe thead th {\n",
       "        text-align: left;\n",
       "    }\n",
       "\n",
       "    .dataframe tbody tr th {\n",
       "        vertical-align: top;\n",
       "    }\n",
       "</style>\n",
       "<table border=\"1\" class=\"dataframe\">\n",
       "  <thead>\n",
       "    <tr style=\"text-align: right;\">\n",
       "      <th></th>\n",
       "      <th>date</th>\n",
       "      <th>headline_score</th>\n",
       "      <th>story_score</th>\n",
       "      <th>avg_score</th>\n",
       "    </tr>\n",
       "  </thead>\n",
       "  <tbody>\n",
       "    <tr>\n",
       "      <th>68</th>\n",
       "      <td>2018-02-05</td>\n",
       "      <td>0.219633</td>\n",
       "      <td>0.310442</td>\n",
       "      <td>0.265038</td>\n",
       "    </tr>\n",
       "    <tr>\n",
       "      <th>69</th>\n",
       "      <td>2018-01-30</td>\n",
       "      <td>0.176722</td>\n",
       "      <td>0.145078</td>\n",
       "      <td>0.160900</td>\n",
       "    </tr>\n",
       "    <tr>\n",
       "      <th>70</th>\n",
       "      <td>2018-01-29</td>\n",
       "      <td>0.183133</td>\n",
       "      <td>0.198583</td>\n",
       "      <td>0.190858</td>\n",
       "    </tr>\n",
       "    <tr>\n",
       "      <th>71</th>\n",
       "      <td>2018-02-03</td>\n",
       "      <td>0.000000</td>\n",
       "      <td>0.340000</td>\n",
       "      <td>0.170000</td>\n",
       "    </tr>\n",
       "    <tr>\n",
       "      <th>72</th>\n",
       "      <td>2018-01-28</td>\n",
       "      <td>0.177900</td>\n",
       "      <td>0.102700</td>\n",
       "      <td>0.140300</td>\n",
       "    </tr>\n",
       "  </tbody>\n",
       "</table>\n",
       "</div>"
      ],
      "text/plain": [
       "         date  headline_score  story_score  avg_score\n",
       "68 2018-02-05        0.219633     0.310442   0.265038\n",
       "69 2018-01-30        0.176722     0.145078   0.160900\n",
       "70 2018-01-29        0.183133     0.198583   0.190858\n",
       "71 2018-02-03        0.000000     0.340000   0.170000\n",
       "72 2018-01-28        0.177900     0.102700   0.140300"
      ]
     },
     "execution_count": 159,
     "metadata": {},
     "output_type": "execute_result"
    }
   ],
   "source": [
    "daydf.tail()"
   ]
  },
  {
   "cell_type": "code",
   "execution_count": 160,
   "metadata": {
    "collapsed": true
   },
   "outputs": [],
   "source": [
    "# order by date\n",
    "\n",
    "daydf = daydf.sort_values(by=['date'])"
   ]
  },
  {
   "cell_type": "code",
   "execution_count": 161,
   "metadata": {},
   "outputs": [
    {
     "data": {
      "text/html": [
       "<div>\n",
       "<style>\n",
       "    .dataframe thead tr:only-child th {\n",
       "        text-align: right;\n",
       "    }\n",
       "\n",
       "    .dataframe thead th {\n",
       "        text-align: left;\n",
       "    }\n",
       "\n",
       "    .dataframe tbody tr th {\n",
       "        vertical-align: top;\n",
       "    }\n",
       "</style>\n",
       "<table border=\"1\" class=\"dataframe\">\n",
       "  <thead>\n",
       "    <tr style=\"text-align: right;\">\n",
       "      <th></th>\n",
       "      <th>date</th>\n",
       "      <th>headline_score</th>\n",
       "      <th>story_score</th>\n",
       "      <th>avg_score</th>\n",
       "    </tr>\n",
       "  </thead>\n",
       "  <tbody>\n",
       "    <tr>\n",
       "      <th>72</th>\n",
       "      <td>2018-01-28</td>\n",
       "      <td>0.177900</td>\n",
       "      <td>0.102700</td>\n",
       "      <td>0.140300</td>\n",
       "    </tr>\n",
       "    <tr>\n",
       "      <th>70</th>\n",
       "      <td>2018-01-29</td>\n",
       "      <td>0.183133</td>\n",
       "      <td>0.198583</td>\n",
       "      <td>0.190858</td>\n",
       "    </tr>\n",
       "    <tr>\n",
       "      <th>69</th>\n",
       "      <td>2018-01-30</td>\n",
       "      <td>0.176722</td>\n",
       "      <td>0.145078</td>\n",
       "      <td>0.160900</td>\n",
       "    </tr>\n",
       "    <tr>\n",
       "      <th>67</th>\n",
       "      <td>2018-01-31</td>\n",
       "      <td>0.204446</td>\n",
       "      <td>0.401046</td>\n",
       "      <td>0.302746</td>\n",
       "    </tr>\n",
       "    <tr>\n",
       "      <th>66</th>\n",
       "      <td>2018-02-01</td>\n",
       "      <td>0.161862</td>\n",
       "      <td>0.276862</td>\n",
       "      <td>0.219362</td>\n",
       "    </tr>\n",
       "  </tbody>\n",
       "</table>\n",
       "</div>"
      ],
      "text/plain": [
       "         date  headline_score  story_score  avg_score\n",
       "72 2018-01-28        0.177900     0.102700   0.140300\n",
       "70 2018-01-29        0.183133     0.198583   0.190858\n",
       "69 2018-01-30        0.176722     0.145078   0.160900\n",
       "67 2018-01-31        0.204446     0.401046   0.302746\n",
       "66 2018-02-01        0.161862     0.276862   0.219362"
      ]
     },
     "execution_count": 161,
     "metadata": {},
     "output_type": "execute_result"
    }
   ],
   "source": [
    "daydf.head()"
   ]
  },
  {
   "cell_type": "code",
   "execution_count": 162,
   "metadata": {},
   "outputs": [
    {
     "data": {
      "text/html": [
       "<div>\n",
       "<style>\n",
       "    .dataframe thead tr:only-child th {\n",
       "        text-align: right;\n",
       "    }\n",
       "\n",
       "    .dataframe thead th {\n",
       "        text-align: left;\n",
       "    }\n",
       "\n",
       "    .dataframe tbody tr th {\n",
       "        vertical-align: top;\n",
       "    }\n",
       "</style>\n",
       "<table border=\"1\" class=\"dataframe\">\n",
       "  <thead>\n",
       "    <tr style=\"text-align: right;\">\n",
       "      <th></th>\n",
       "      <th>date</th>\n",
       "      <th>headline_score</th>\n",
       "      <th>story_score</th>\n",
       "      <th>avg_score</th>\n",
       "    </tr>\n",
       "  </thead>\n",
       "  <tbody>\n",
       "    <tr>\n",
       "      <th>5</th>\n",
       "      <td>2018-04-13</td>\n",
       "      <td>0.020375</td>\n",
       "      <td>0.303817</td>\n",
       "      <td>0.162096</td>\n",
       "    </tr>\n",
       "    <tr>\n",
       "      <th>3</th>\n",
       "      <td>2018-04-14</td>\n",
       "      <td>0.177900</td>\n",
       "      <td>0.226300</td>\n",
       "      <td>0.202100</td>\n",
       "    </tr>\n",
       "    <tr>\n",
       "      <th>1</th>\n",
       "      <td>2018-04-16</td>\n",
       "      <td>0.005354</td>\n",
       "      <td>0.300738</td>\n",
       "      <td>0.153046</td>\n",
       "    </tr>\n",
       "    <tr>\n",
       "      <th>2</th>\n",
       "      <td>2018-04-17</td>\n",
       "      <td>0.032700</td>\n",
       "      <td>-0.035092</td>\n",
       "      <td>-0.001196</td>\n",
       "    </tr>\n",
       "    <tr>\n",
       "      <th>0</th>\n",
       "      <td>2018-04-18</td>\n",
       "      <td>0.032985</td>\n",
       "      <td>0.091080</td>\n",
       "      <td>0.062033</td>\n",
       "    </tr>\n",
       "  </tbody>\n",
       "</table>\n",
       "</div>"
      ],
      "text/plain": [
       "        date  headline_score  story_score  avg_score\n",
       "5 2018-04-13        0.020375     0.303817   0.162096\n",
       "3 2018-04-14        0.177900     0.226300   0.202100\n",
       "1 2018-04-16        0.005354     0.300738   0.153046\n",
       "2 2018-04-17        0.032700    -0.035092  -0.001196\n",
       "0 2018-04-18        0.032985     0.091080   0.062033"
      ]
     },
     "execution_count": 162,
     "metadata": {},
     "output_type": "execute_result"
    }
   ],
   "source": [
    "daydf.tail()"
   ]
  },
  {
   "cell_type": "code",
   "execution_count": 163,
   "metadata": {
    "collapsed": true
   },
   "outputs": [],
   "source": [
    "# write dataframe to csv file\n",
    "\n",
    "daydf.to_csv('sid_score.csv')"
   ]
  },
  {
   "cell_type": "markdown",
   "metadata": {},
   "source": [
    "## use news sentiment score for portfolio construction"
   ]
  },
  {
   "cell_type": "code",
   "execution_count": 170,
   "metadata": {
    "collapsed": true
   },
   "outputs": [],
   "source": [
    "# define a function to get average sentiment score\n",
    "# for a given company by reading most recent news\n",
    "\n",
    "def news_score(company_list):\n",
    "    \"\"\"input a list of company names, output a dictionary of company_name:news_score\"\"\"\n",
    "    \n",
    "    company_score = {}\n",
    "    \n",
    "    for company in company_list:\n",
    "        url = 'https://www.bloomberg.com/search?query=' + company\n",
    "        newslist = get_news(url)\n",
    "\n",
    "        df = pd.DataFrame(newslist)\n",
    "\n",
    "        headline_score = []\n",
    "        story_score = []\n",
    "\n",
    "        for i in range(len(df)):\n",
    "            headline_score.append(sid_score(df['headline'][i]))\n",
    "            story_score.append(sid_score(df['story'][i]))\n",
    "\n",
    "        avg_score = (np.mean(headline_score) + np.mean(story_score))/2\n",
    "        \n",
    "        company_score[company] = avg_score\n",
    "        \n",
    "    return company_score"
   ]
  },
  {
   "cell_type": "code",
   "execution_count": 178,
   "metadata": {
    "collapsed": true
   },
   "outputs": [],
   "source": [
    "company_list = ['Apple', 'Microsoft', 'Facebook', 'Google', 'Intel', 'Visa', 'Cisco', 'Mastercard', 'Nvidia',\n",
    "               'Berkshire', 'JP+Morgan+Chase', 'Bank+of+America', 'Wells+Fargo', 'Citigroup', 'Goldman+Sachs',\n",
    "               'US+Bancorp', 'Morgan+Stanley', 'American+Express', 'Johnson+&+Johnson', 'Pfizer', 'Unitedhealth',\n",
    "               'AbbVie', 'Merck', 'Amgen', 'Medtronic', 'Abbott', 'Bristol+Myers+Squibb', 'Gilead', 'Amazon',\n",
    "               'Home+Depot', 'Comcast', 'Walt+Disney', 'NetFlix', 'McDonald', 'Booking', 'Nike', 'Starbucks',\n",
    "               'Time+Warner', 'Boeing', '3M', 'General+Electric', 'Honeywell', 'Union+Pacific', 'United+Technologies',\n",
    "               'Caterpillar', 'Lockheed+Martin', 'UPS', 'Raytheon', 'Coca+Cola', 'Costco', 'CVS', 'Walmart', 'Walgreens',\n",
    "               'Chevron', 'Exxon+Mobil', 'Marathon+Oil', 'Phillips+66', 'Valero', 'Schlumberger']"
   ]
  },
  {
   "cell_type": "code",
   "execution_count": 179,
   "metadata": {
    "collapsed": true
   },
   "outputs": [],
   "source": [
    "# caution: depends on how large your company list is\n",
    "# this can take several minutes to run\n",
    "\n",
    "company_score = news_score(company_list)"
   ]
  },
  {
   "cell_type": "code",
   "execution_count": 180,
   "metadata": {},
   "outputs": [
    {
     "data": {
      "text/plain": [
       "{'3M': 0.03302,\n",
       " 'AbbVie': -0.16885499999999998,\n",
       " 'Abbott': 0.13954,\n",
       " 'Amazon': 0.14342500000000002,\n",
       " 'American+Express': -0.06330499999999999,\n",
       " 'Amgen': 0.10195,\n",
       " 'Apple': 0.10029000000000002,\n",
       " 'Bank+of+America': 0.14468000000000003,\n",
       " 'Berkshire': 0.031724999999999996,\n",
       " 'Boeing': -0.021529999999999997,\n",
       " 'Booking': -0.06226,\n",
       " 'Bristol+Myers+Squibb': -0.07617499999999998,\n",
       " 'CVS': 0.2042,\n",
       " 'Caterpillar': -0.037774999999999975,\n",
       " 'Chevron': 0.111005,\n",
       " 'Cisco': 0.12919000000000003,\n",
       " 'Citigroup': 0.062439999999999996,\n",
       " 'Coca+Cola': 0.05159444444444443,\n",
       " 'Comcast': 0.01356000000000001,\n",
       " 'Costco': 0.09909500000000002,\n",
       " 'Exxon+Mobil': -0.03702,\n",
       " 'Facebook': -0.019584999999999998,\n",
       " 'General+Electric': 0.035655,\n",
       " 'Gilead': 0.057984999999999995,\n",
       " 'Goldman+Sachs': 0.069665,\n",
       " 'Google': -0.09785,\n",
       " 'Home+Depot': 0.09847500000000001,\n",
       " 'Honeywell': 0.10244,\n",
       " 'Intel': -0.043295,\n",
       " 'JP+Morgan+Chase': 0.10921500000000002,\n",
       " 'Johnson+&+Johnson': -0.04363499999999999,\n",
       " 'Lockheed+Martin': -0.029194999999999995,\n",
       " 'Marathon+Oil': 0.239715,\n",
       " 'Mastercard': -0.062244999999999995,\n",
       " 'McDonald': 0.009859999999999996,\n",
       " 'Medtronic': 0.075125,\n",
       " 'Merck': -0.02747,\n",
       " 'Microsoft': -0.020450000000000017,\n",
       " 'Morgan+Stanley': 0.163875,\n",
       " 'NetFlix': 0.366385,\n",
       " 'Nike': 0.09070500000000001,\n",
       " 'Nvidia': 0.08641,\n",
       " 'Pfizer': 0.04252,\n",
       " 'Phillips+66': 0.07733999999999999,\n",
       " 'Raytheon': 0.13055,\n",
       " 'Schlumberger': 0.06878500000000001,\n",
       " 'Starbucks': -0.164075,\n",
       " 'Time+Warner': 0.07386,\n",
       " 'UPS': 0.09904000000000003,\n",
       " 'US+Bancorp': -0.06045,\n",
       " 'Union+Pacific': -0.030159999999999992,\n",
       " 'United+Technologies': -0.01944499999999999,\n",
       " 'Unitedhealth': 0.185785,\n",
       " 'Valero': 0.20672500000000002,\n",
       " 'Visa': -0.05849999999999999,\n",
       " 'Walgreens': 0.148965,\n",
       " 'Walmart': 0.01515,\n",
       " 'Walt+Disney': -0.03584,\n",
       " 'Wells+Fargo': 0.22962}"
      ]
     },
     "execution_count": 180,
     "metadata": {},
     "output_type": "execute_result"
    }
   ],
   "source": [
    "company_score"
   ]
  },
  {
   "cell_type": "code",
   "execution_count": 181,
   "metadata": {
    "collapsed": true
   },
   "outputs": [],
   "source": [
    "# sort company score dictionary by sentiment score\n",
    "\n",
    "import operator\n",
    "\n",
    "sorted_company_score = sorted(company_score.items(), key=operator.itemgetter(1))"
   ]
  },
  {
   "cell_type": "code",
   "execution_count": 182,
   "metadata": {},
   "outputs": [
    {
     "data": {
      "text/plain": [
       "[('AbbVie', -0.16885499999999998),\n",
       " ('Starbucks', -0.164075),\n",
       " ('Google', -0.09785),\n",
       " ('Bristol+Myers+Squibb', -0.07617499999999998),\n",
       " ('American+Express', -0.06330499999999999),\n",
       " ('Booking', -0.06226),\n",
       " ('Mastercard', -0.062244999999999995),\n",
       " ('US+Bancorp', -0.06045),\n",
       " ('Visa', -0.05849999999999999),\n",
       " ('Johnson+&+Johnson', -0.04363499999999999),\n",
       " ('Intel', -0.043295),\n",
       " ('Caterpillar', -0.037774999999999975),\n",
       " ('Exxon+Mobil', -0.03702),\n",
       " ('Walt+Disney', -0.03584),\n",
       " ('Union+Pacific', -0.030159999999999992),\n",
       " ('Lockheed+Martin', -0.029194999999999995),\n",
       " ('Merck', -0.02747),\n",
       " ('Boeing', -0.021529999999999997),\n",
       " ('Microsoft', -0.020450000000000017),\n",
       " ('Facebook', -0.019584999999999998),\n",
       " ('United+Technologies', -0.01944499999999999),\n",
       " ('McDonald', 0.009859999999999996),\n",
       " ('Comcast', 0.01356000000000001),\n",
       " ('Walmart', 0.01515),\n",
       " ('Berkshire', 0.031724999999999996),\n",
       " ('3M', 0.03302),\n",
       " ('General+Electric', 0.035655),\n",
       " ('Pfizer', 0.04252),\n",
       " ('Coca+Cola', 0.05159444444444443),\n",
       " ('Gilead', 0.057984999999999995),\n",
       " ('Citigroup', 0.062439999999999996),\n",
       " ('Schlumberger', 0.06878500000000001),\n",
       " ('Goldman+Sachs', 0.069665),\n",
       " ('Time+Warner', 0.07386),\n",
       " ('Medtronic', 0.075125),\n",
       " ('Phillips+66', 0.07733999999999999),\n",
       " ('Nvidia', 0.08641),\n",
       " ('Nike', 0.09070500000000001),\n",
       " ('Home+Depot', 0.09847500000000001),\n",
       " ('UPS', 0.09904000000000003),\n",
       " ('Costco', 0.09909500000000002),\n",
       " ('Apple', 0.10029000000000002),\n",
       " ('Amgen', 0.10195),\n",
       " ('Honeywell', 0.10244),\n",
       " ('JP+Morgan+Chase', 0.10921500000000002),\n",
       " ('Chevron', 0.111005),\n",
       " ('Cisco', 0.12919000000000003),\n",
       " ('Raytheon', 0.13055),\n",
       " ('Abbott', 0.13954),\n",
       " ('Amazon', 0.14342500000000002),\n",
       " ('Bank+of+America', 0.14468000000000003),\n",
       " ('Walgreens', 0.148965),\n",
       " ('Morgan+Stanley', 0.163875),\n",
       " ('Unitedhealth', 0.185785),\n",
       " ('CVS', 0.2042),\n",
       " ('Valero', 0.20672500000000002),\n",
       " ('Wells+Fargo', 0.22962),\n",
       " ('Marathon+Oil', 0.239715),\n",
       " ('NetFlix', 0.366385)]"
      ]
     },
     "execution_count": 182,
     "metadata": {},
     "output_type": "execute_result"
    }
   ],
   "source": [
    "sorted_company_score"
   ]
  },
  {
   "cell_type": "code",
   "execution_count": 208,
   "metadata": {},
   "outputs": [
    {
     "data": {
      "text/plain": [
       "{'S&P+500+index': -0.139625}"
      ]
     },
     "execution_count": 208,
     "metadata": {},
     "output_type": "execute_result"
    }
   ],
   "source": [
    "# S&P 500 score\n",
    "\n",
    "index_score = news_score(['S&P+500+index'])\n",
    "index_score"
   ]
  },
  {
   "cell_type": "code",
   "execution_count": 184,
   "metadata": {},
   "outputs": [
    {
     "data": {
      "text/plain": [
       "3.1556900000000008"
      ]
     },
     "execution_count": 184,
     "metadata": {},
     "output_type": "execute_result"
    }
   ],
   "source": [
    "total = 0\n",
    "\n",
    "for i in sorted_company_score[-20:]:\n",
    "    total = total + i[1]\n",
    "    \n",
    "total"
   ]
  },
  {
   "cell_type": "code",
   "execution_count": null,
   "metadata": {
    "collapsed": true
   },
   "outputs": [],
   "source": []
  }
 ],
 "metadata": {
  "kernelspec": {
   "display_name": "Python 3",
   "language": "python",
   "name": "python3"
  },
  "language_info": {
   "codemirror_mode": {
    "name": "ipython",
    "version": 3
   },
   "file_extension": ".py",
   "mimetype": "text/x-python",
   "name": "python",
   "nbconvert_exporter": "python",
   "pygments_lexer": "ipython3",
   "version": "3.6.3"
  }
 },
 "nbformat": 4,
 "nbformat_minor": 2
}
